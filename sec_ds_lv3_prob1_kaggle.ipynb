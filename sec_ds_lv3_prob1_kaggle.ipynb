{
 "cells": [
  {
   "cell_type": "markdown",
   "id": "765c0422",
   "metadata": {},
   "source": [
    "# 문제 6\n",
    "\n",
    "[Kaggle 형] train_prob.csv로 문제 failure 예측하는 모델을 만들고, \n",
    "\n",
    "test_prob.csv에 대한 failure가 1일 확률 예측하여 다음과 같은 형식의 answer6.csv를 만들어라. \n",
    "\n",
    "측정 지표는 AUC(area under of ROC curve)이다. id 는 테스트 케이스의 id 이고, failure에는 failure가 1이 될 확률이다.\n",
    "\n",
    "id,failure\n",
    "\n",
    "16115, 0.1\n",
    "\n",
    "16116, 0.2\n",
    "\n",
    "\n",
    "**강사: 멀티캠퍼스 강선구(sunku0316.kang@multicampus.com, sun9sun9@gmail.com)**"
   ]
  },
  {
   "cell_type": "code",
   "execution_count": 25,
   "id": "f7f067da",
   "metadata": {},
   "outputs": [
    {
     "name": "stdout",
     "output_type": "stream",
     "text": [
      "3.7.4 (tags/v3.7.4:e09359112e, Jul  8 2019, 20:34:20) [MSC v.1916 64 bit (AMD64)]\n",
      "pandas 0.25.1\n",
      "numpy 1.18.5\n",
      "sklearn 0.21.3\n",
      "scipy 1.5.2\n",
      "mlxtend 0.15.0.0\n",
      "statsmodels 0.11.1\n",
      "xgboost 0.80\n"
     ]
    }
   ],
   "source": [
    "# 실행 환경 확인\n",
    "\n",
    "import pandas as pd\n",
    "import numpy as np\n",
    "import sklearn\n",
    "import scipy\n",
    "import statsmodels\n",
    "import mlxtend\n",
    "import sys\n",
    "import xgboost as xgb\n",
    "\n",
    "print(sys.version)\n",
    "for i in [pd, np, sklearn, scipy, mlxtend, statsmodels, xgb]:\n",
    "    print(i.__name__, i.__version__)"
   ]
  },
  {
   "cell_type": "code",
   "execution_count": 26,
   "id": "57b72b31",
   "metadata": {},
   "outputs": [],
   "source": [
    "df_train = pd.read_csv('train_prob.csv', index_col='id')\n",
    "df_test = pd.read_csv('test_prob.csv', index_col='id')\n",
    "df_ans = pd.read_csv('test_prob_ans.csv', index_col='id') # 정답을 가져옵니다."
   ]
  },
  {
   "cell_type": "code",
   "execution_count": 27,
   "id": "ec83977b",
   "metadata": {},
   "outputs": [],
   "source": [
    "# 결측치를 처리하기 전에,\n",
    "# 결측 여부가 failure를 예측하는데, 유용할 만하다고 도출된\n",
    "# measurement_3, measurement_5의 결측 여부만 남깁니다.\n",
    "df_train[['na_1', 'na_2']] = df_train[['measurement_3', 'measurement_5']].isna()\n",
    "df_test[['na_1', 'na_2']] = df_test[['measurement_3', 'measurement_5']].isna()"
   ]
  },
  {
   "cell_type": "code",
   "execution_count": 28,
   "id": "26da6c18",
   "metadata": {},
   "outputs": [
    {
     "data": {
      "text/plain": [
       "C    5765\n",
       "E    5343\n",
       "B    5250\n",
       "A    5100\n",
       "Name: product_code, dtype: int64"
      ]
     },
     "execution_count": 28,
     "metadata": {},
     "output_type": "execute_result"
    }
   ],
   "source": [
    "df_train['product_code'].value_counts()"
   ]
  },
  {
   "cell_type": "code",
   "execution_count": 29,
   "id": "5460c96e",
   "metadata": {},
   "outputs": [
    {
     "data": {
      "text/plain": [
       "D    5112\n",
       "Name: product_code, dtype: int64"
      ]
     },
     "execution_count": 29,
     "metadata": {},
     "output_type": "execute_result"
    }
   ],
   "source": [
    "df_test['product_code'].value_counts()"
   ]
  },
  {
   "cell_type": "code",
   "execution_count": 30,
   "id": "4dab51d7",
   "metadata": {},
   "outputs": [],
   "source": [
    "from sklearn.experimental import enable_iterative_imputer# 구문을 사용하여 실험 단계인 모듈을 활성화하고, \n",
    "from sklearn.impute import IterativeImputer\n",
    "from sklearn.linear_model import LinearRegression\n",
    "from sklearn.metrics import r2_score\n",
    "\n",
    "X_imp = ['measurement_{}'.format(i) for i in range(3, 10)] + ['measurement_17']\n",
    "# train에 등장하지 않은 수준이 있습니다, test를 포함하여 결측처리 모델을 만듭니다.\n",
    "s_imp = pd.concat([\n",
    "        df_train[X_imp + ['product_code']],\n",
    "        df_test[X_imp + ['product_code']]\n",
    "], axis=0).groupby('product_code')\\\n",
    ".apply(\n",
    "    lambda x: IterativeImputer(estimator=LinearRegression(),random_state=123).fit(x[X_imp])\n",
    ")\n",
    "# train에 적용합니다.\n",
    "df_train[X_imp] = df_train[X_imp + ['product_code']]\\\n",
    "            .groupby('product_code')\\\n",
    "            .apply(\n",
    "                lambda x: pd.DataFrame(s_imp.loc[x.name].transform(x[X_imp]), index=x.index, columns=X_imp)\n",
    "            )\n",
    "# test에 적용합니다.\n",
    "df_test[X_imp] = df_test[X_imp + ['product_code']]\\\n",
    "            .groupby('product_code')\\\n",
    "            .apply(\n",
    "                lambda x: pd.DataFrame(s_imp.loc[x.name].transform(x[X_imp]), index=x.index, columns=X_imp)\n",
    "            )"
   ]
  },
  {
   "cell_type": "code",
   "execution_count": 31,
   "id": "c7599256",
   "metadata": {},
   "outputs": [],
   "source": [
    "X_mean = ['measurement_{}'.format(i) for i in range(10, 17)]\n",
    "# 역시 train에 등장하지 않은 수준을 처리하기 위해 합치니다.\n",
    "df_mean = pd.concat([\n",
    "            df_train[['product_code'] + X_mean],\n",
    "            df_test[['product_code'] + X_mean]\n",
    "        ]).groupby('product_code')[X_mean].agg('mean')\n",
    "\n",
    "df_train[X_mean] = df_train.groupby('product_code')[X_mean]\\\n",
    "            .apply(lambda x: pd.DataFrame(x.fillna(df_mean.loc[x.name]), index=x.index, columns=x.columns))\n",
    "df_test[X_mean] = df_test.groupby('product_code')[X_mean]\\\n",
    "            .apply(lambda x: pd.DataFrame(x.fillna(df_mean.loc[x.name]), index=x.index, columns=x.columns))"
   ]
  },
  {
   "cell_type": "code",
   "execution_count": 32,
   "id": "2d67f825",
   "metadata": {},
   "outputs": [
    {
     "data": {
      "text/plain": [
       "(0, 0)"
      ]
     },
     "execution_count": 32,
     "metadata": {},
     "output_type": "execute_result"
    }
   ],
   "source": [
    "df_train['loading'] = df_train['loading'].fillna(df_train['loading'].mean())\n",
    "# loading은 train에서의 평균으로 결측치를 처리합니다.\n",
    "df_test['loading'] = df_test['loading'].fillna(df_train['loading'].mean())\n",
    "df_train.isna().sum().sum(), df_test.isna().sum().sum()"
   ]
  },
  {
   "cell_type": "code",
   "execution_count": 62,
   "id": "a1687265",
   "metadata": {},
   "outputs": [],
   "source": [
    "# 공통으로 사용할 만한 요소입니다.\n",
    "from sklearn.model_selection import GroupKFold, cross_validate\n",
    "from sklearn.pipeline import make_pipeline\n",
    "from sklearn.compose import ColumnTransformer\n",
    "from sklearn.metrics import roc_auc_score\n",
    "from sklearn.preprocessing import StandardScaler, FunctionTransformer\n",
    "from sklearn.decomposition import PCA\n",
    "\n",
    "X_all = df_test.columns.tolist()\n",
    "X_mean = ['measurement_{}'.format(i) for i in range(18)]\n",
    "gcv = GroupKFold(n_splits=4)\n",
    "\n",
    "def eval_model(model):\n",
    "    return cross_validate(\n",
    "        model, df_train[X_all], df_train['failure'], cv=gcv, groups=df_train['product_code'], scoring='roc_auc',\n",
    "        return_train_score=True\n",
    "    )\n",
    "\n",
    "def choose_model(model):\n",
    "    model.fit(df_train[X_all], df_train['failure'])\n",
    "    prd = model.predict_proba(df_test[X_all])[:, 1]\n",
    "    pd.DataFrame(\n",
    "        {\n",
    "            'id': df_test.index.values,\n",
    "            'failue': prd\n",
    "        }\n",
    "    ).to_csv('answer6.csv', index=None)\n",
    "    return prd"
   ]
  },
  {
   "cell_type": "code",
   "execution_count": 39,
   "id": "00779236",
   "metadata": {},
   "outputs": [
    {
     "name": "stdout",
     "output_type": "stream",
     "text": [
      "['A' 'B' 'E'] ['C']\n",
      "['A' 'B' 'C'] ['E']\n",
      "['A' 'C' 'E'] ['B']\n",
      "['B' 'C' 'E'] ['A']\n"
     ]
    }
   ],
   "source": [
    "for train_idx, test_idx in gcv.split(df_train[X_all], df_train['failure'], groups=df_train['product_code']):\n",
    "    df_cv_train = df_train.iloc[train_idx]\n",
    "    df_cv_test = df_train.iloc[test_idx]\n",
    "    print(df_cv_train['product_code'].unique(), df_cv_test['product_code'].unique())"
   ]
  },
  {
   "cell_type": "code",
   "execution_count": 72,
   "id": "7d9f397a",
   "metadata": {},
   "outputs": [
    {
     "data": {
      "text/plain": [
       "({'fit_time': array([0.02805018, 0.01561999, 0.01562452, 0.03124332]),\n",
       "  'score_time': array([0.00398898, 0.        , 0.        , 0.        ]),\n",
       "  'test_score': array([0.58822089, 0.58492694, 0.58894173, 0.59538985]),\n",
       "  'train_score': array([0.59262299, 0.59350682, 0.59192443, 0.58956962])},\n",
       " 0.5893698519267131,\n",
       " 0.5919059643763757)"
      ]
     },
     "execution_count": 72,
     "metadata": {},
     "output_type": "execute_result"
    }
   ],
   "source": [
    "# Baseline: LogisticRegression + Feature Selection 결과\n",
    "from sklearn.linear_model import LogisticRegression\n",
    "\n",
    "ct = ColumnTransformer([\n",
    "    ('std', StandardScaler(), ['loading', 'measurement_1', 'measurement_4', 'measurement_14', 'measurement_17']),\n",
    "    ('pt', 'passthrough', ['na_1'])\n",
    "])\n",
    "\n",
    "clf_lr = make_pipeline(\n",
    "    ct,\n",
    "    LogisticRegression(solver='lbfgs')\n",
    ")\n",
    "\n",
    "result = eval_model(clf_lr)\n",
    "result, np.mean(result['test_score']), np.mean(result['train_score'])"
   ]
  },
  {
   "cell_type": "code",
   "execution_count": 49,
   "id": "d20e3e41",
   "metadata": {},
   "outputs": [
    {
     "name": "stdout",
     "output_type": "stream",
     "text": [
      "Baseline: 0.5883988309352517\n"
     ]
    }
   ],
   "source": [
    "prd = choose_model(clf_lr)\n",
    "print(\"Baseline:\", roc_auc_score(df_ans['failure'], prd))"
   ]
  },
  {
   "cell_type": "code",
   "execution_count": 73,
   "id": "b0893409",
   "metadata": {},
   "outputs": [
    {
     "data": {
      "text/plain": [
       "({'fit_time': array([0.07933426, 0.06191015, 0.06899309, 0.06896234]),\n",
       "  'score_time': array([0.01562405, 0.01562572, 0.01562595, 0.01562428]),\n",
       "  'test_score': array([0.58744901, 0.58478951, 0.58888648, 0.59404736]),\n",
       "  'train_score': array([0.59256898, 0.59201445, 0.59165467, 0.58869849])},\n",
       " 0.5887930891237332,\n",
       " 0.5912341489254731)"
      ]
     },
     "execution_count": 73,
     "metadata": {},
     "output_type": "execute_result"
    }
   ],
   "source": [
    "# LR2: LogisticRegression + PCA + loading_log\n",
    "\n",
    "from sklearn.decomposition import PCA\n",
    "\n",
    "ct = ColumnTransformer([\n",
    "    ('std_pca', make_pipeline(StandardScaler(), PCA(n_components=7)), X_num),\n",
    "    ('std', make_pipeline(FunctionTransformer(np.log, validate=False), StandardScaler()), ['loading']),\n",
    "    ('pt', 'passthrough', ['na_1'])\n",
    "])\n",
    "\n",
    "clf_lr2 = make_pipeline(\n",
    "    ct,\n",
    "    LogisticRegression(solver='lbfgs')\n",
    ")\n",
    "\n",
    "result = eval_model(clf_lr2)\n",
    "result, np.mean(result['test_score']), np.mean(result['train_score'])"
   ]
  },
  {
   "cell_type": "code",
   "execution_count": 74,
   "id": "e3ffc4b6",
   "metadata": {},
   "outputs": [
    {
     "data": {
      "text/plain": [
       "({'fit_time': array([0.97302365, 1.06009555, 1.77546239, 1.47194982]),\n",
       "  'score_time': array([0.01016212, 0.        , 0.        , 0.01014996]),\n",
       "  'test_score': array([0.58102148, 0.57867625, 0.57843643, 0.58456933]),\n",
       "  'train_score': array([0.60183525, 0.60205625, 0.60462231, 0.60053106])},\n",
       " 0.5806758736037123,\n",
       " 0.6022612171962629)"
      ]
     },
     "execution_count": 74,
     "metadata": {},
     "output_type": "execute_result"
    }
   ],
   "source": [
    "# MLPClassifier: X_num + ['na_1', 'na_2']\n",
    "\n",
    "from sklearn.neural_network import MLPClassifier\n",
    "ct = ColumnTransformer([\n",
    "    ('std', StandardScaler(), ['loading'] + ['measurement_{}'.format(i) for i in range(18)]),\n",
    "    ('pt', 'passthrough', ['na_1', 'na_2'])\n",
    "])\n",
    "\n",
    "clf_mlp = make_pipeline(ct, MLPClassifier(hidden_layer_sizes=[4, 4], alpha=0.001, random_state=123))\n",
    "result = eval_model(clf_mlp)\n",
    "result, np.mean(result['test_score']), np.mean(result['train_score'])"
   ]
  },
  {
   "cell_type": "code",
   "execution_count": 76,
   "id": "0b9386f7",
   "metadata": {},
   "outputs": [
    {
     "data": {
      "text/plain": [
       "({'fit_time': array([0.89162493, 0.89087987, 0.88948393, 0.91114807]),\n",
       "  'score_time': array([0.13912702, 0.12109756, 0.13400459, 0.1380074 ]),\n",
       "  'test_score': array([0.58269797, 0.57964453, 0.58447645, 0.58554621]),\n",
       "  'train_score': array([0.63315414, 0.63617003, 0.63583476, 0.63224709])},\n",
       " 0.5830912918741479,\n",
       " 0.6343515049053199)"
      ]
     },
     "execution_count": 76,
     "metadata": {},
     "output_type": "execute_result"
    }
   ],
   "source": [
    "# RF: RandomForestClassifier\n",
    "# PCA도 넣어 봅니다.\n",
    "from sklearn.ensemble import RandomForestClassifier\n",
    "X_rf = ['loading', 'na_1', 'na_2'] + ['measurement_{}'.format(i) for i in range(18)]\n",
    "ct = ColumnTransformer([\n",
    "    ('std_pca', make_pipeline(StandardScaler(), PCA(n_components=7)), X_rf),\n",
    "    ('pt', 'passthrough', ['loading', 'na_1', 'na_2'])\n",
    "])\n",
    "clf_rf = make_pipeline(ct, RandomForestClassifier(\n",
    "    n_estimators=150, max_depth=7, min_samples_split= 512, random_state=123, n_jobs=4\n",
    "))\n",
    "result = eval_model(clf_rf)\n",
    "result,  np.mean(result['test_score']), np.mean(result['train_score'])"
   ]
  },
  {
   "cell_type": "code",
   "execution_count": 77,
   "id": "6a72ea12",
   "metadata": {},
   "outputs": [
    {
     "data": {
      "text/plain": [
       "({'fit_time': array([2.43056989, 2.47152638, 2.49979544, 2.50026822]),\n",
       "  'score_time': array([0.04686403, 0.03048968, 0.03047991, 0.0304811 ]),\n",
       "  'test_score': array([0.58536186, 0.58262546, 0.58334564, 0.59225923]),\n",
       "  'train_score': array([0.60852592, 0.60910272, 0.6080427 , 0.60689529])},\n",
       " 0.5858980476811373,\n",
       " 0.6081416590998701)"
      ]
     },
     "execution_count": 77,
     "metadata": {},
     "output_type": "execute_result"
    }
   ],
   "source": [
    "# XGB: XGBoost\n",
    "import xgboost as xgb\n",
    "X_xgb = ['loading', 'na_1', 'na_2'] + ['measurement_{}'.format(i) for i in range(18)]\n",
    "ct = ColumnTransformer([\n",
    "    ('pt', 'passthrough', X_xgb)\n",
    "])\n",
    "clf_xgb = xgb.XGBClassifier(\n",
    "    learning_rate=0.01, n_estimators=300, subsample=0.5, colsample_bytree=0.9, max_depth=2, random_state=123\n",
    ")\n",
    "clf_xgb = make_pipeline(ct, clf_xgb)\n",
    "result = eval_model(clf_xgb)\n",
    "result,  np.mean(result['test_score']), np.mean(result['train_score'])"
   ]
  },
  {
   "cell_type": "code",
   "execution_count": 78,
   "id": "6aefe3ec",
   "metadata": {},
   "outputs": [
    {
     "data": {
      "text/plain": [
       "({'fit_time': array([1.12517786, 1.13749313, 1.15024376, 1.11028147]),\n",
       "  'score_time': array([0.0156312 , 0.01226044, 0.01022434, 0.01019835]),\n",
       "  'test_score': array([0.58394407, 0.58068345, 0.5846679 , 0.59357819]),\n",
       "  'train_score': array([0.59490185, 0.59741658, 0.59562136, 0.59252278])},\n",
       " 0.5857184027349147,\n",
       " 0.5951156410437852)"
      ]
     },
     "execution_count": 78,
     "metadata": {},
     "output_type": "execute_result"
    }
   ],
   "source": [
    "# GB: GradientBoosting\n",
    "from sklearn.ensemble import GradientBoostingClassifier\n",
    "X_gb = ['loading', 'na_1', 'na_2'] + ['measurement_{}'.format(i) for i in range(18)]\n",
    "ct = ColumnTransformer([\n",
    "    ('pt', 'passthrough', X_gb)\n",
    "])\n",
    "clf_gb = make_pipeline(ct, GradientBoostingClassifier(\n",
    "    n_estimators=100, max_depth=2, learning_rate=0.01, random_state=123\n",
    "))\n",
    "result = eval_model(clf_gb)\n",
    "result,  np.mean(result['test_score']), np.mean(result['train_score'])"
   ]
  },
  {
   "cell_type": "code",
   "execution_count": 88,
   "id": "445a15d4",
   "metadata": {},
   "outputs": [
    {
     "data": {
      "text/plain": [
       "({'fit_time': array([1.1723752 , 1.18235707, 1.17683125, 1.12888598]),\n",
       "  'score_time': array([0.02259493, 0.01722622, 0.01216984, 0.02025962]),\n",
       "  'test_score': array([0.58930567, 0.58573059, 0.58939867, 0.59653137]),\n",
       "  'train_score': array([0.59567237, 0.59693881, 0.59580892, 0.59247848])},\n",
       " 0.5902415739208746,\n",
       " 0.5952246451419261)"
      ]
     },
     "execution_count": 88,
     "metadata": {},
     "output_type": "execute_result"
    }
   ],
   "source": [
    "from sklearn.ensemble import VotingClassifier\n",
    "\n",
    "clf_vt = VotingClassifier([\n",
    "    ('baseline', clf_lr),\n",
    "    #('lr_2', clf_lr2),\n",
    "    # ('mlp', clf_mlp),\n",
    "    #('rf', clf_rf),\n",
    "    #('xgb', clf_xgb),\n",
    "    ('gb', clf_gb)\n",
    "], voting='soft')\n",
    "result = eval_model(clf_vt)\n",
    "result,  np.mean(result['test_score']), np.mean(result['train_score'])"
   ]
  },
  {
   "cell_type": "code",
   "execution_count": 90,
   "id": "a9780dfa",
   "metadata": {},
   "outputs": [
    {
     "name": "stdout",
     "output_type": "stream",
     "text": [
      "Voting: 0.5927039118705035\n"
     ]
    }
   ],
   "source": [
    "prd = choose_model(clf_vt)\n",
    "print(\"Voting:\", roc_auc_score(df_ans['failure'], prd))"
   ]
  },
  {
   "cell_type": "code",
   "execution_count": null,
   "id": "803c6e7b",
   "metadata": {},
   "outputs": [],
   "source": []
  }
 ],
 "metadata": {
  "kernelspec": {
   "display_name": "Python 3 (ipykernel)",
   "language": "python",
   "name": "python3"
  },
  "language_info": {
   "codemirror_mode": {
    "name": "ipython",
    "version": 3
   },
   "file_extension": ".py",
   "mimetype": "text/x-python",
   "name": "python",
   "nbconvert_exporter": "python",
   "pygments_lexer": "ipython3",
   "version": "3.7.4"
  }
 },
 "nbformat": 4,
 "nbformat_minor": 5
}
