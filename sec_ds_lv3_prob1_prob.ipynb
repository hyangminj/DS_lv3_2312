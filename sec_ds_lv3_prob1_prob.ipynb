{
 "cells": [
  {
   "cell_type": "markdown",
   "id": "75850728",
   "metadata": {},
   "source": [
    "# 시험장 환경 정보\n",
    "\n",
    "Python: 3.7.4 (tags/v3.7.4:e09359112e, Jul  8 2019, 20:34:20) [MSC v.1916 64 bit (AMD64)]\n",
    "\n",
    "|모듈|버젼|\n",
    "|----|----|\n",
    "|pandas|0.25.1|\n",
    "|numpy|1.18.5|\n",
    "|sklearn|0.21.3|\n",
    "|scipy|1.5.2|\n",
    "|mlxtend|0.15.0.0|\n",
    "|statsmodels|0.11.1|\n",
    "|xgboost|0.8|"
   ]
  },
  {
   "cell_type": "code",
   "execution_count": 3,
   "id": "04b1901d",
   "metadata": {},
   "outputs": [
    {
     "name": "stdout",
     "output_type": "stream",
     "text": [
      "3.7.4 (tags/v3.7.4:e09359112e, Jul  8 2019, 20:34:20) [MSC v.1916 64 bit (AMD64)]\n",
      "pandas 0.25.1\n",
      "numpy 1.18.5\n",
      "sklearn 0.21.3\n",
      "scipy 1.5.2\n",
      "mlxtend 0.15.0.0\n",
      "statsmodels 0.11.1\n",
      "xgboost 0.80\n"
     ]
    }
   ],
   "source": [
    "# 실행 환경 확인\n",
    "\n",
    "import pandas as pd\n",
    "import numpy as np\n",
    "import sklearn\n",
    "import scipy\n",
    "import statsmodels\n",
    "import mlxtend\n",
    "import sys\n",
    "import xgboost as xgb\n",
    "\n",
    "print(sys.version)\n",
    "for i in [pd, np, sklearn, scipy, mlxtend, statsmodels, xgb]:\n",
    "    print(i.__name__, i.__version__)"
   ]
  },
  {
   "cell_type": "code",
   "execution_count": 4,
   "id": "b2a5207c",
   "metadata": {},
   "outputs": [],
   "source": [
    "# 시각화 모듈 설정\n",
    "# 참고용 차트를 출력하기 위함\n",
    "\n",
    "import matplotlib.pyplot as plt\n",
    "import seaborn as sns\n",
    "\n",
    "import matplotlib as mpl\n",
    "import matplotlib.font_manager as fm\n",
    "plt.rc('font', family='Malgun Gothic')\n",
    "mpl.rcParams['axes.unicode_minus'] = False"
   ]
  },
  {
   "cell_type": "markdown",
   "id": "2719eb2d",
   "metadata": {},
   "source": [
    "# 문제 개요\n",
    "\n",
    "다음은 폴더블 폰의 힌지에 들어가는 스프링 내구력을 테스트한 실험 결과이다. \n",
    "\n",
    "스프링 측정값과 스프링에 가한 부하 정보와 함께, 테스트 통과/실패 (failure) 결과가 기재되어 있다. \n",
    "\n",
    "개발부서는 테스트 비용을 줄이기 위해 failure 여부를 맞추는 모델을 만들고자 한다.\n",
    "\n",
    "변수명은 보안을 위해 measurement_0과 같이 익명화되었다.\n",
    "\n",
    "데이터 구성\n",
    "\n",
    "학습데이터: train_prob.csv, 21,458 rows, 25 columns\n",
    "\n",
    "테스트데이터: test_prob.csv, 5,112 rows, 24 columns, \n",
    "\n",
    "테스트정답셋: test_prob_ans.csv, 5,112 rows, 1 columns\n",
    "\n",
    "\n",
    "컬럼명\t설명\t타입\n",
    "\n",
    "|변수명|설명|타입|\n",
    "|--|--------------|------|\n",
    "|id|실험 고유 번호|정수형|\n",
    "|product_code|스프링 코드|범주형|\n",
    "|loading|스프링에 가한 부하|실수형|\n",
    "|attribute_0|구성 소재1|범주형|\n",
    "|attribute_1|구성 소재2|범주형|\n",
    "|attribute_2|구성 소재3|정수형|\n",
    "|attribute_3|구성 소재4|정수형|\n",
    "|measurement_0 ~ 17|측정값 0~17|실수형|\n",
    "|failure|성공여부|이진형(0, 1)|\n"
   ]
  },
  {
   "cell_type": "markdown",
   "id": "b80d1407",
   "metadata": {},
   "source": [
    "# 전처리(Preprocessing)\n",
    "\n",
    "train_prob.csv를 불러 온다. 이를 basetable이리고 한다."
   ]
  },
  {
   "cell_type": "code",
   "execution_count": 40,
   "id": "15ebc269",
   "metadata": {},
   "outputs": [
    {
     "data": {
      "text/html": [
       "<div>\n",
       "<style scoped>\n",
       "    .dataframe tbody tr th:only-of-type {\n",
       "        vertical-align: middle;\n",
       "    }\n",
       "\n",
       "    .dataframe tbody tr th {\n",
       "        vertical-align: top;\n",
       "    }\n",
       "\n",
       "    .dataframe thead th {\n",
       "        text-align: right;\n",
       "    }\n",
       "</style>\n",
       "<table border=\"1\" class=\"dataframe\">\n",
       "  <thead>\n",
       "    <tr style=\"text-align: right;\">\n",
       "      <th></th>\n",
       "      <th>product_code</th>\n",
       "      <th>loading</th>\n",
       "      <th>attribute_0</th>\n",
       "      <th>attribute_1</th>\n",
       "      <th>attribute_2</th>\n",
       "      <th>attribute_3</th>\n",
       "      <th>measurement_0</th>\n",
       "      <th>measurement_1</th>\n",
       "      <th>measurement_2</th>\n",
       "      <th>measurement_3</th>\n",
       "      <th>...</th>\n",
       "      <th>measurement_9</th>\n",
       "      <th>measurement_10</th>\n",
       "      <th>measurement_11</th>\n",
       "      <th>measurement_12</th>\n",
       "      <th>measurement_13</th>\n",
       "      <th>measurement_14</th>\n",
       "      <th>measurement_15</th>\n",
       "      <th>measurement_16</th>\n",
       "      <th>measurement_17</th>\n",
       "      <th>failure</th>\n",
       "    </tr>\n",
       "    <tr>\n",
       "      <th>id</th>\n",
       "      <th></th>\n",
       "      <th></th>\n",
       "      <th></th>\n",
       "      <th></th>\n",
       "      <th></th>\n",
       "      <th></th>\n",
       "      <th></th>\n",
       "      <th></th>\n",
       "      <th></th>\n",
       "      <th></th>\n",
       "      <th></th>\n",
       "      <th></th>\n",
       "      <th></th>\n",
       "      <th></th>\n",
       "      <th></th>\n",
       "      <th></th>\n",
       "      <th></th>\n",
       "      <th></th>\n",
       "      <th></th>\n",
       "      <th></th>\n",
       "      <th></th>\n",
       "    </tr>\n",
       "  </thead>\n",
       "  <tbody>\n",
       "    <tr>\n",
       "      <td>0</td>\n",
       "      <td>A</td>\n",
       "      <td>80.10</td>\n",
       "      <td>material_7</td>\n",
       "      <td>material_8</td>\n",
       "      <td>9</td>\n",
       "      <td>5</td>\n",
       "      <td>7</td>\n",
       "      <td>8</td>\n",
       "      <td>4</td>\n",
       "      <td>18.040</td>\n",
       "      <td>...</td>\n",
       "      <td>10.672</td>\n",
       "      <td>15.859</td>\n",
       "      <td>17.594</td>\n",
       "      <td>15.193</td>\n",
       "      <td>15.029</td>\n",
       "      <td>NaN</td>\n",
       "      <td>13.034</td>\n",
       "      <td>14.684</td>\n",
       "      <td>764.100</td>\n",
       "      <td>0</td>\n",
       "    </tr>\n",
       "    <tr>\n",
       "      <td>1</td>\n",
       "      <td>A</td>\n",
       "      <td>84.89</td>\n",
       "      <td>material_7</td>\n",
       "      <td>material_8</td>\n",
       "      <td>9</td>\n",
       "      <td>5</td>\n",
       "      <td>14</td>\n",
       "      <td>3</td>\n",
       "      <td>3</td>\n",
       "      <td>18.213</td>\n",
       "      <td>...</td>\n",
       "      <td>12.448</td>\n",
       "      <td>17.947</td>\n",
       "      <td>17.915</td>\n",
       "      <td>11.755</td>\n",
       "      <td>14.732</td>\n",
       "      <td>15.425</td>\n",
       "      <td>14.395</td>\n",
       "      <td>15.631</td>\n",
       "      <td>682.057</td>\n",
       "      <td>0</td>\n",
       "    </tr>\n",
       "    <tr>\n",
       "      <td>2</td>\n",
       "      <td>A</td>\n",
       "      <td>82.43</td>\n",
       "      <td>material_7</td>\n",
       "      <td>material_8</td>\n",
       "      <td>9</td>\n",
       "      <td>5</td>\n",
       "      <td>12</td>\n",
       "      <td>1</td>\n",
       "      <td>5</td>\n",
       "      <td>18.057</td>\n",
       "      <td>...</td>\n",
       "      <td>12.715</td>\n",
       "      <td>15.607</td>\n",
       "      <td>NaN</td>\n",
       "      <td>13.798</td>\n",
       "      <td>16.711</td>\n",
       "      <td>18.631</td>\n",
       "      <td>14.094</td>\n",
       "      <td>17.946</td>\n",
       "      <td>663.376</td>\n",
       "      <td>0</td>\n",
       "    </tr>\n",
       "    <tr>\n",
       "      <td>3</td>\n",
       "      <td>A</td>\n",
       "      <td>101.07</td>\n",
       "      <td>material_7</td>\n",
       "      <td>material_8</td>\n",
       "      <td>9</td>\n",
       "      <td>5</td>\n",
       "      <td>13</td>\n",
       "      <td>2</td>\n",
       "      <td>6</td>\n",
       "      <td>17.295</td>\n",
       "      <td>...</td>\n",
       "      <td>12.471</td>\n",
       "      <td>16.346</td>\n",
       "      <td>18.377</td>\n",
       "      <td>10.020</td>\n",
       "      <td>15.250</td>\n",
       "      <td>15.562</td>\n",
       "      <td>16.154</td>\n",
       "      <td>17.172</td>\n",
       "      <td>826.282</td>\n",
       "      <td>0</td>\n",
       "    </tr>\n",
       "    <tr>\n",
       "      <td>4</td>\n",
       "      <td>A</td>\n",
       "      <td>188.06</td>\n",
       "      <td>material_7</td>\n",
       "      <td>material_8</td>\n",
       "      <td>9</td>\n",
       "      <td>5</td>\n",
       "      <td>9</td>\n",
       "      <td>2</td>\n",
       "      <td>8</td>\n",
       "      <td>19.346</td>\n",
       "      <td>...</td>\n",
       "      <td>10.337</td>\n",
       "      <td>17.082</td>\n",
       "      <td>19.932</td>\n",
       "      <td>12.428</td>\n",
       "      <td>16.182</td>\n",
       "      <td>12.760</td>\n",
       "      <td>13.153</td>\n",
       "      <td>16.412</td>\n",
       "      <td>579.885</td>\n",
       "      <td>0</td>\n",
       "    </tr>\n",
       "  </tbody>\n",
       "</table>\n",
       "<p>5 rows × 25 columns</p>\n",
       "</div>"
      ],
      "text/plain": [
       "   product_code  loading attribute_0 attribute_1  attribute_2  attribute_3  \\\n",
       "id                                                                           \n",
       "0             A    80.10  material_7  material_8            9            5   \n",
       "1             A    84.89  material_7  material_8            9            5   \n",
       "2             A    82.43  material_7  material_8            9            5   \n",
       "3             A   101.07  material_7  material_8            9            5   \n",
       "4             A   188.06  material_7  material_8            9            5   \n",
       "\n",
       "    measurement_0  measurement_1  measurement_2  measurement_3  ...  \\\n",
       "id                                                              ...   \n",
       "0               7              8              4         18.040  ...   \n",
       "1              14              3              3         18.213  ...   \n",
       "2              12              1              5         18.057  ...   \n",
       "3              13              2              6         17.295  ...   \n",
       "4               9              2              8         19.346  ...   \n",
       "\n",
       "    measurement_9  measurement_10  measurement_11  measurement_12  \\\n",
       "id                                                                  \n",
       "0          10.672          15.859          17.594          15.193   \n",
       "1          12.448          17.947          17.915          11.755   \n",
       "2          12.715          15.607             NaN          13.798   \n",
       "3          12.471          16.346          18.377          10.020   \n",
       "4          10.337          17.082          19.932          12.428   \n",
       "\n",
       "    measurement_13  measurement_14  measurement_15  measurement_16  \\\n",
       "id                                                                   \n",
       "0           15.029             NaN          13.034          14.684   \n",
       "1           14.732          15.425          14.395          15.631   \n",
       "2           16.711          18.631          14.094          17.946   \n",
       "3           15.250          15.562          16.154          17.172   \n",
       "4           16.182          12.760          13.153          16.412   \n",
       "\n",
       "    measurement_17  failure  \n",
       "id                           \n",
       "0          764.100        0  \n",
       "1          682.057        0  \n",
       "2          663.376        0  \n",
       "3          826.282        0  \n",
       "4          579.885        0  \n",
       "\n",
       "[5 rows x 25 columns]"
      ]
     },
     "metadata": {},
     "output_type": "display_data"
    },
    {
     "name": "stdout",
     "output_type": "stream",
     "text": [
      "<class 'pandas.core.frame.DataFrame'>\n",
      "Int64Index: 21458 entries, 0 to 26569\n",
      "Data columns (total 25 columns):\n",
      "product_code      21458 non-null object\n",
      "loading           21257 non-null float64\n",
      "attribute_0       21458 non-null object\n",
      "attribute_1       21458 non-null object\n",
      "attribute_2       21458 non-null int64\n",
      "attribute_3       21458 non-null int64\n",
      "measurement_0     21458 non-null int64\n",
      "measurement_1     21458 non-null int64\n",
      "measurement_2     21458 non-null int64\n",
      "measurement_3     21146 non-null float64\n",
      "measurement_4     21016 non-null float64\n",
      "measurement_5     20893 non-null float64\n",
      "measurement_6     20818 non-null float64\n",
      "measurement_7     20692 non-null float64\n",
      "measurement_8     20605 non-null float64\n",
      "measurement_9     20469 non-null float64\n",
      "measurement_10    20399 non-null float64\n",
      "measurement_11    20278 non-null float64\n",
      "measurement_12    20171 non-null float64\n",
      "measurement_13    20063 non-null float64\n",
      "measurement_14    19976 non-null float64\n",
      "measurement_15    19855 non-null float64\n",
      "measurement_16    19750 non-null float64\n",
      "measurement_17    19640 non-null float64\n",
      "failure           21458 non-null int64\n",
      "dtypes: float64(16), int64(6), object(3)\n",
      "memory usage: 4.3+ MB\n"
     ]
    }
   ],
   "source": [
    "df_basetable = pd.read_csv('train_prob.csv', index_col=['id'])\n",
    "display(df_basetable.head())\n",
    "df_basetable.info()"
   ]
  },
  {
   "cell_type": "markdown",
   "id": "11f35976",
   "metadata": {},
   "source": [
    "# 단계 1\n",
    "\n",
    "basetable에 measurement_3 ~17 각각의 행이 결측인지 나타내는 파생 변수를 만든다. \n",
    "\n",
    "파생 변수는 이진 형식이고, False는 미결측 True는 결측을 의미한다. \n",
    "\n",
    "파생 변수의 이름은 measurement 번호에 따라 isna_3 ~ 17로 한다. "
   ]
  },
  {
   "cell_type": "code",
   "execution_count": 41,
   "id": "9d8bd808",
   "metadata": {},
   "outputs": [],
   "source": [
    "df_basetable[['isna_{}'.format(i) for i in range(3, 18)]] = \\\n",
    "    df_basetable[['measurement_{}'.format(i) for i in range(3, 18)]].isna()"
   ]
  },
  {
   "cell_type": "markdown",
   "id": "3173737d",
   "metadata": {},
   "source": [
    "## 단계 2\n",
    "\n",
    "이 과제를 맡은 데이터분석가 지희는 measurement_3~17의 결측치 처리 방안을 고민하던 중, \n",
    "\n",
    "개발부서에서 measurement_17은 product_code별로 failure를 예측하기 위해 \n",
    "\n",
    "measurement_3 ~ measurement_9을 다음과 같이 선형 조합하여 생성한 값이라는 정보를 받았다. \n",
    "\n",
    "$measurement_{17}=\\beta_{3}measurement_{3}+\\beta_{4}measurement_{4}+...+\\beta_{9}measurement_{9}$\n",
    "\n",
    "이는 즉,\n",
    "\n",
    "$measurement_{3}=\\beta'_{4}measurement_{4}+\\beta'_{5}measurement_{5}+...+\\beta'_{9}measurement_{9} + \\beta'_{17}measurement_{17}$\n",
    "\n",
    "...\n",
    "\n",
    "$measurement_{9}=\\beta''_{3}measurement_{3}+\\beta''_{4}measurement_{4}+...+\\beta''_{8}measurement_{8}+\\beta''_{17}measurement_{17}$\n",
    "\n",
    "와 같이 measurement_3 ~ measurement_9의 각 변수들도 나머지 변수들과 선형 관계를 지닌다. \n",
    "\n",
    "이 점을 이용하여 대상 변수를 번갈아 가면서 예측 모델을 만들어 최대한 원래 값에 가깝게 복원할 수 있다. \n",
    "\n",
    "이러한 반복적인 결측치 복원 방법을 사내 데이터분석 연구소에 문의 했더니 다음과 같은 가이드를 주었다. \n",
    "\n",
    "> sklearn 모듈에 아직은 실험 단계이지만, 비슷한 경우에 문제 없이 사용했던 사례가 있어 의견을 드립니다. \n",
    "\n",
    "> from sklearn.experimental import enable_iterative_imputer 구문을 사용하여 실험 단계인 모듈을 활성화하고, \n",
    "\n",
    "> sklearn.impute.IterativeImputer를 사용한다면 원하는 결과를 얻을 수 있습니다.\n",
    "\n",
    "가이드의 내용을 참조하여 basetable의 measurement_3~9와 measurement_17 결측치를 복원하라.\n",
    "\n",
    "\n",
    "입력 변수] measurement_3 ~ 9, measurement_17 (입력 변수 순서에 유의)\n",
    "\n",
    "---\n",
    "**함수가이드**\n",
    "\n",
    "sklearn.experimental.enable_iterative_imputer\n",
    "\n",
    "sklearn.impute.IterativeImputer, random_state=123\n",
    "\n",
    "sklearn.linear_model.LinearRegression\n",
    "\n",
    "문제 지시사항 외 Default 값 사용\n",
    "\n",
    "---\n"
   ]
  },
  {
   "cell_type": "code",
   "execution_count": 42,
   "id": "a94de17c",
   "metadata": {},
   "outputs": [],
   "source": [
    "from sklearn.experimental import enable_iterative_imputer\n",
    "from sklearn.impute import IterativeImputer\n",
    "from sklearn.linear_model import LinearRegression"
   ]
  },
  {
   "cell_type": "code",
   "execution_count": 43,
   "id": "d6853ded",
   "metadata": {},
   "outputs": [],
   "source": [
    "# 방법 1\n",
    "imp = IterativeImputer(\n",
    "    estimator=LinearRegression(),\n",
    "    random_state=123\n",
    ")\n",
    "X_imp = ['measurement_{}'.format(i) for i in range(3, 10)] + ['measurement_17']\n",
    "df_basetable[X_imp] = df_basetable.groupby('product_code')[X_imp].apply(\n",
    "    lambda x: pd.DataFrame(imp.fit_transform(x), index=x.index, columns=X_imp)\n",
    ")"
   ]
  },
  {
   "cell_type": "code",
   "execution_count": 39,
   "id": "4dfdb3e4",
   "metadata": {},
   "outputs": [],
   "source": [
    "# 방법 2: 수준 별로 모델을 만들어 Series에 담아 두고, 수준 별로 적용합니다.\n",
    "\n",
    "# 수준 별로 모델의 인스턴스를 만들어 주기 위한 함수 입니다.\n",
    "def create_imp():\n",
    "    return IterativeImputer(\n",
    "        estimator=LinearRegression(),\n",
    "        random_state=123\n",
    "    )\n",
    "# 수준별로 결측 보간 모델을 만들고 학습합니다.\n",
    "s_imp = df_basetable.groupby('product_code')[X_imp].apply(\n",
    "    lambda x: create_imp().fit(x)\n",
    ")\n",
    "\n",
    "# 모델을 적용하여 결측이 처리된 데이터프레임을 만듭니다.\n",
    "# apply에서 transform에서 numpy array를 넘겨 주므로, \n",
    "# DataFrame을 만들어 반환시켜주면,\n",
    "# apply에서 DataFrame으로 재구성하여 넘겨줍니다.\n",
    "\n",
    "df_basetable[X_imp] = df_basetable.groupby('product_code')[X_imp].apply(\n",
    "    lambda x: pd.DataFrame(s_imp.loc[x.name].transform(x), index=x.index, columns=X_imp)\n",
    ")"
   ]
  },
  {
   "cell_type": "code",
   "execution_count": 44,
   "id": "9117c450",
   "metadata": {},
   "outputs": [],
   "source": [
    "# 방법 3: 반복문을 이용합니다.\n",
    "for i in df_basetable['product_code'].unique():\n",
    "    s_bidx = df_basetable['product_code'] == i\n",
    "    # 값을 대입할 때, 대입에 대상이 되는 데이터프레임을\n",
    "    # df_basetable.loc[s_bidx][X_imp] 이런식으로 filtering -> 컬럼선택 2단계로 할 경우 reference 경고를 받게 됩니다.\n",
    "    # df_basetable.loc[s_bidx, X_imp] filtering과 columns 선택을 하여 중간에 reference DataFrame 없이 처리하도록 합니다.\n",
    "    df_basetable.loc[s_bidx, X_imp] = imp.fit_transform(df_basetable.loc[s_bidx, X_imp])"
   ]
  },
  {
   "cell_type": "markdown",
   "id": "c95edba8",
   "metadata": {},
   "source": [
    "## 단계 3\n",
    "\n",
    "measurement_10~16까지의 결측치는 모두 product_code별 평균으로 대치한다."
   ]
  },
  {
   "cell_type": "code",
   "execution_count": 50,
   "id": "0bea1389",
   "metadata": {},
   "outputs": [],
   "source": [
    "# 방법 1: groupby ~ apply\n",
    "X_mean = ['measurement_{}'.format(i) for i in range(10, 17)]\n",
    "# apply 사용후 groupby에 의해 구분된 수준이 불필요(1:1 변환작업이라는 점에서)하게 index에 붙을 수가 있습니다.\n",
    "# 이 때는 DataFrame에 index를 지정하여 반환시키면 없앨 수 있습니다.\n",
    "df_basetable[X_mean] = df_basetable.groupby('product_code')[X_mean].apply(\n",
    "    lambda x: pd.DataFrame(x.fillna(x.mean()), index=x.index)\n",
    ")"
   ]
  },
  {
   "cell_type": "code",
   "execution_count": 51,
   "id": "95c474c4",
   "metadata": {},
   "outputs": [],
   "source": [
    "# 방법 3:  groupby ~ transform\n",
    "# Transform을 통해 수준별 평균으로 1:1 변환된 값으로 구성된 DataFrame을 받아서, \n",
    "# 각각의 요소별로 결측이면 해당값으로 치환되게 구성합니다.\n",
    "df_basetable[X_mean] = df_basetable.groupby('product_code')[X_mean].transform(\n",
    "    lambda x: x.fillna(x.mean())\n",
    ")"
   ]
  },
  {
   "cell_type": "markdown",
   "id": "d62884d7",
   "metadata": {},
   "source": [
    "Hint] 전처리 단계에서 보간 결과를 확인해 보기 위한 각 변수의 평균과 표본표준편차.\n",
    "\n",
    "| |3|4|5|6|7|8|9|10|11|12|13|14|15|16|17|\n",
    "|-|-|-|-|-|-|-|-|--|--|--|--|--|--|--|--|\n",
    "|mean|17.796|11.736|17.131|17.506|11.719|19.022|11.434|16.034|19.194|11.734|15.666|16.033|15.051|16.398|701.768|\n",
    "|std|0.997|0.994|0.994|0.992|0.993|1.005|0.997|1.278|1.579|1.433|1.149|1.461|1.478|1.671|119.180|\n",
    "\n",
    "열의 이름의 숫자는 measurement_ 번호, 값은 소수점 3째 자리까지 반올림"
   ]
  },
  {
   "cell_type": "code",
   "execution_count": 56,
   "id": "0ff22f9e",
   "metadata": {},
   "outputs": [
    {
     "data": {
      "text/html": [
       "<div>\n",
       "<style scoped>\n",
       "    .dataframe tbody tr th:only-of-type {\n",
       "        vertical-align: middle;\n",
       "    }\n",
       "\n",
       "    .dataframe tbody tr th {\n",
       "        vertical-align: top;\n",
       "    }\n",
       "\n",
       "    .dataframe thead th {\n",
       "        text-align: right;\n",
       "    }\n",
       "</style>\n",
       "<table border=\"1\" class=\"dataframe\">\n",
       "  <thead>\n",
       "    <tr style=\"text-align: right;\">\n",
       "      <th></th>\n",
       "      <th>3</th>\n",
       "      <th>4</th>\n",
       "      <th>5</th>\n",
       "      <th>6</th>\n",
       "      <th>7</th>\n",
       "      <th>8</th>\n",
       "      <th>9</th>\n",
       "      <th>10</th>\n",
       "      <th>11</th>\n",
       "      <th>12</th>\n",
       "      <th>13</th>\n",
       "      <th>14</th>\n",
       "      <th>15</th>\n",
       "      <th>16</th>\n",
       "      <th>17</th>\n",
       "    </tr>\n",
       "  </thead>\n",
       "  <tbody>\n",
       "    <tr>\n",
       "      <td>mean</td>\n",
       "      <td>17.796</td>\n",
       "      <td>11.736</td>\n",
       "      <td>17.131</td>\n",
       "      <td>17.506</td>\n",
       "      <td>11.719</td>\n",
       "      <td>19.022</td>\n",
       "      <td>11.434</td>\n",
       "      <td>16.034</td>\n",
       "      <td>19.194</td>\n",
       "      <td>11.734</td>\n",
       "      <td>15.666</td>\n",
       "      <td>16.033</td>\n",
       "      <td>15.051</td>\n",
       "      <td>16.398</td>\n",
       "      <td>701.768</td>\n",
       "    </tr>\n",
       "    <tr>\n",
       "      <td>std</td>\n",
       "      <td>0.997</td>\n",
       "      <td>0.994</td>\n",
       "      <td>0.994</td>\n",
       "      <td>0.992</td>\n",
       "      <td>0.993</td>\n",
       "      <td>1.005</td>\n",
       "      <td>0.997</td>\n",
       "      <td>1.278</td>\n",
       "      <td>1.579</td>\n",
       "      <td>1.433</td>\n",
       "      <td>1.149</td>\n",
       "      <td>1.461</td>\n",
       "      <td>1.478</td>\n",
       "      <td>1.671</td>\n",
       "      <td>119.180</td>\n",
       "    </tr>\n",
       "  </tbody>\n",
       "</table>\n",
       "</div>"
      ],
      "text/plain": [
       "           3       4       5       6       7       8       9      10      11  \\\n",
       "mean  17.796  11.736  17.131  17.506  11.719  19.022  11.434  16.034  19.194   \n",
       "std    0.997   0.994   0.994   0.992   0.993   1.005   0.997   1.278   1.579   \n",
       "\n",
       "          12      13      14      15      16       17  \n",
       "mean  11.734  15.666  16.033  15.051  16.398  701.768  \n",
       "std    1.433   1.149   1.461   1.478   1.671  119.180  "
      ]
     },
     "execution_count": 56,
     "metadata": {},
     "output_type": "execute_result"
    }
   ],
   "source": [
    "df_basetable[['measurement_{}'.format(i) for i in range(3, 18)]]\\\n",
    "    .agg(['mean', 'std']).rename(columns=lambda x: x.split('_')[1])\\\n",
    "    .applymap(lambda x: round(x, 3))"
   ]
  },
  {
   "cell_type": "markdown",
   "id": "218dab47",
   "metadata": {},
   "source": [
    "# 문제1\n",
    "\n",
    "(basetable을 사용) measurement_3~16까지 결측 여부가 failure에 영향이 있는지를 파악하고, \n",
    "\n",
    "failure를 분류하는 데 도움이 될 만한 것은 예측 모델의 입력 변수로 사용하고자 한다. \n",
    "\n",
    "이를 위해 전처리 과정에서 뽑아낸 isna_3~16을 활용한다.\n",
    "\n",
    "n이 3부터 16까지, 즉 measurement_3~16까지 다음의 검정을 수행한다. \n",
    "\n",
    "$H_0: P(failure=True|measurement_{n}=Missing)=P(failure=True)$\n",
    "\n",
    "$H_1: P(failure=True|measurement_{n}=Missing) \\neq P(failure=True)$\n",
    "\n",
    "모집단의 $P(failure=True) = 0.2114$\n"
   ]
  },
  {
   "cell_type": "code",
   "execution_count": null,
   "id": "9ed64b12",
   "metadata": {},
   "outputs": [],
   "source": []
  },
  {
   "cell_type": "markdown",
   "id": "91304a06",
   "metadata": {},
   "source": [
    "## 단계 1-1\n",
    "\n",
    "우선, measurement_3으로 위 검정을 시행해보자.\n",
    "\n",
    "$H_0: P(failure=True|isna_{3}=True)=0.2114$\n",
    "\n",
    "$H_1: P(failure=True|isna_{3}=True) \\neq 0.2114$\n",
    "\n",
    "으로 바꿀 수 있다.\n",
    "\n",
    "$P(failure=True|isna_{3}=True)$은 표본수가 충분하여 중심극한정리에 의해 정규분포를 따르는 것은 분석가 간에 이견이 없다고 한다. \n",
    "\n",
    "위 검정의 p-value를 구하여 보고 힌트에 주어진 p-value와 비교하여 검정 방법에 문제가 없음을 확인하라.\n",
    "\n",
    "---\n",
    "\n",
    "**함수 가이드**\n",
    "\n",
    " scipy.stats 에서 제공 기능 활용\n",
    " \n",
    " 문제 지시사항 외 Default 값 사용\n",
    " \n",
    "---\n",
    "\n",
    " Hint] p-value는 0.0037(소수점 다섯째 자리에서 반올림하여 넷째 자리까지 표시)\n"
   ]
  },
  {
   "cell_type": "code",
   "execution_count": 81,
   "id": "93b98c5b",
   "metadata": {},
   "outputs": [
    {
     "data": {
      "text/plain": [
       "(0.14423076923076922,\n",
       " 312,\n",
       " 0.0005343270512820513,\n",
       " -2.905807189028007,\n",
       " 0.0036630709140241546)"
      ]
     },
     "execution_count": 81,
     "metadata": {},
     "output_type": "execute_result"
    }
   ],
   "source": [
    "from scipy.stats import norm\n",
    "\n",
    "# 모집단의 failure가 True인 비율(True = 1로 매칭한다면, 평균)\n",
    "p_true = 0.2114\n",
    "# 베르누이 분포의 성질을 이용하면, 모집단의 분산을 구할 수 있습니다. 분산 = p × (1 - p)\n",
    "p_var = p_true * (1 - p_true)\n",
    "\n",
    "# isna_3가 결측인 개수(샘플수)\n",
    "n_samples = len(df_basetable.loc[df_basetable['isna_3']])\n",
    "# 표본의 평균은 모집단의 평균과 같습니다.\n",
    "p_sample_true = p_true\n",
    "# 표본의 평균의 분산은 = 모집단의 분산 / 표본수\n",
    "p_sample_var = p_var / n_samples\n",
    "\n",
    "# 표본에서 관측한 비율(평균)을 구합니다.\n",
    "p_ob_true = df_basetable.loc[\n",
    "    df_basetable['isna_3'], 'failure'\n",
    "].mean()\n",
    "\n",
    "# 검정통계량을 구합니다. \n",
    "# 양측 검증이라 적용의 편의성을 위해\n",
    "# 표준화 후 좌측 꼬리의 검정통계량을 구하기 위해, 절대값에 마이너스를 취합니다.\n",
    "Z = -abs(p_ob_true - p_sample_true) / (p_sample_var ** 0.5)\n",
    "\n",
    "# 누적분포함수를 이용하여 좌측 꼬리 영역을 구하고 x 2 를 해주어 양쪽 영역을 구합니다.\n",
    "pvalue = norm.cdf(Z) * 2\n",
    "p_ob_true, n_samples, p_sample_var, Z, pvalue"
   ]
  },
  {
   "cell_type": "code",
   "execution_count": 69,
   "id": "c5467c98",
   "metadata": {},
   "outputs": [
    {
     "data": {
      "image/png": "[encoded data removed]",
      "text/plain": [
       "<Figure size 640x480 with 1 Axes>"
      ]
     },
     "metadata": {},
     "output_type": "display_data"
    }
   ],
   "source": [
    "# 표준정규 분포를 이용한 pvalue 도출을 그래프로 설명해봅니다\n",
    "from scipy.stats import norm\n",
    "P_true = 0.2114\n",
    "col = 'isna_{}'.format(4)\n",
    "P_var = P_true * (1 - P_true)\n",
    "n_samples = df_basetable[col].sum()\n",
    "P_missing_true = df_basetable.loc[df_basetable[col], 'failure'].mean()\n",
    "P_missing_var = P_var / n_samples\n",
    "P_missing_std = P_missing_var ** 0.5\n",
    "\n",
    "stat = -abs((P_missing_true - P_true) / P_missing_std)\n",
    "\n",
    "plt.plot(np.linspace(-5, 5, 100), norm.pdf(np.linspace(-5, 5, 100)))\n",
    "plt.axvline(stat, color='red', linestyle='--')\n",
    "plt.text(stat, 0.03, str(stat)[:7])\n",
    "plt.axvline(-stat, color='red', linestyle='--')\n",
    "plt.text(-stat, 0.01, str(-stat)[:6])\n",
    "plt.fill_between(np.linspace(-5, stat, 100), np.zeros(shape=100),\n",
    "                norm.pdf(np.linspace(-5, stat, 100)), color='orange')\n",
    "plt.fill_between(np.linspace(-stat, 5, 100), np.zeros(shape=100),\n",
    "                norm.pdf(np.linspace(-stat, 5, 100)), color='orange')\n",
    "\n",
    "plt.show()"
   ]
  },
  {
   "cell_type": "code",
   "execution_count": 83,
   "id": "e3b0df46",
   "metadata": {},
   "outputs": [
    {
     "data": {
      "text/plain": [
       "(-2.905807189028007, 0.0036630709140241546)"
      ]
     },
     "execution_count": 83,
     "metadata": {},
     "output_type": "execute_result"
    }
   ],
   "source": [
    "from statsmodels.stats.proportion import proportions_ztest\n",
    "\n",
    "proportions_ztest(\n",
    "    df_basetable.loc[\n",
    "        df_basetable['isna_3'], 'failure'\n",
    "    ].sum(), # positive(failure=True)인 빈도수\n",
    "    n_samples, # 표본의 수\n",
    "    p_true, # 귀무가설에서 제시한 모집단의 비율\n",
    "    alternative='two-sided',  # 검정의 종류: 양측 검정\n",
    "    prop_var=p_true # 베르누이 분포의 분산을 계산할 때의 비율 (모집단의 비율과 동일하게 설정합니다.)\n",
    ")"
   ]
  },
  {
   "cell_type": "markdown",
   "id": "91c87c44",
   "metadata": {},
   "source": [
    "## 단계 1-2\n",
    "\n",
    "measuremenet_3을 포함하여 measurement_4 ~ 16까지 위 검정을 반복하고 \n",
    "\n",
    "귀무가설을 기각할 수 있는 경우의 p-value의 합을 A라고 한다. (유의 수준은 5%로 한다.)"
   ]
  },
  {
   "cell_type": "code",
   "execution_count": 75,
   "id": "f49aa12e",
   "metadata": {},
   "outputs": [
    {
     "name": "stdout",
     "output_type": "stream",
     "text": [
      "*isna_3 0.14423076923076922 312 0.0005343270512820513 -2.905807189028007 0.0036630709140241546\n",
      "isna_4 0.23755656108597284 442 0.00037717203619909505 -1.3468241702718833 0.17803686833140808\n",
      "*isna_5 0.24955752212389382 565 0.00029506201769911503 -2.2213833417706925 0.026325008335499278\n",
      "isna_6 0.215625 640 0.0002604844375 -0.2617796136561279 0.793491357072205\n",
      "isna_7 0.2245430809399478 766 0.00021763712793733682 -0.8909035498642803 0.37298091572329806\n",
      "isna_8 0.20164126611957797 853 0.0001954396717467761 -0.6980509343383379 0.48514534123655306\n",
      "isna_9 0.21840242669362994 989 0.00016856424671385237 -0.5393439841397007 0.589649524697301\n",
      "isna_10 0.22096317280453256 1059 0.00015742213408876299 -0.7622002829475777 0.44594047726157915\n",
      "isna_11 0.21016949152542372 1180 0.00014127969491525423 -0.1035248797832757 0.9175464043670771\n",
      "isna_12 0.21833721833721834 1287 0.00012953383061383063 -0.6095281379895136 0.5421744277936988\n",
      "isna_13 0.2064516129032258 1395 0.00011950540501792115 -0.45265767845606597 0.6507952588133231\n",
      "isna_14 0.21862348178137653 1482 0.00011248990553306344 -0.681066949794218 0.49582912857498873\n",
      "isna_15 0.2114784778540237 1603 0.00010399877729257642 -0.0076954319495023404 0.9938599942603648\n",
      "isna_16 0.2066744730679157 1708 9.760540983606558e-05 -0.4783142261813061 0.6324265724265041\n"
     ]
    },
    {
     "data": {
      "text/plain": [
       "(0.029988079249523434, ['isna_3', 'isna_5'])"
      ]
     },
     "execution_count": 75,
     "metadata": {},
     "output_type": "execute_result"
    }
   ],
   "source": [
    "# 반복문을 통하여 나머지 변수에 대해서도 검정을 합니다.\n",
    "\n",
    "p_true = 0.2114\n",
    "p_var = p_true * (1 - p_true)\n",
    "p_sample_true = p_true\n",
    "A = 0\n",
    "sel_var = list()\n",
    "for i in range(3, 17):\n",
    "    var_name = 'isna_{}'.format(i)\n",
    "    n_samples = len(df_basetable.loc[df_basetable[var_name]])\n",
    "    p_sample_var = p_var / n_samples\n",
    "\n",
    "    p_ob_true = df_basetable.loc[\n",
    "        df_basetable[var_name], 'failure'\n",
    "    ].mean()\n",
    "\n",
    "    Z = -abs(p_ob_true - p_sample_true) / (p_sample_var ** 0.5)\n",
    "    pvalue = norm.cdf(Z) * 2\n",
    "    if pvalue >= 0.05:\n",
    "        print(var_name, p_ob_true, n_samples, p_sample_var, Z, pvalue)\n",
    "    else:\n",
    "        print('*' + var_name, p_ob_true, n_samples, p_sample_var, Z, pvalue)\n",
    "        sel_var.append(var_name)\n",
    "        A += pvalue # 귀무가설을 기각합니다.\n",
    "A, sel_var"
   ]
  },
  {
   "cell_type": "code",
   "execution_count": 145,
   "id": "0689a344",
   "metadata": {},
   "outputs": [
    {
     "name": "stdout",
     "output_type": "stream",
     "text": [
      "3 0.003405324556499528\n",
      "4 0.1741657088968988\n",
      "5 0.024516546406520602\n",
      "6 0.7921857087941843\n",
      "7 0.3656339966203622\n",
      "8 0.474635180654421\n",
      "9 0.5827835961630805\n",
      "10 0.4361454068118833\n",
      "11 0.9127039294688549\n",
      "12 0.531745036927435\n",
      "13 0.6372594412899744\n",
      "14 0.48249954404547724\n",
      "15 0.9965691506625175\n",
      "16 0.615410353301508\n"
     ]
    }
   ],
   "source": [
    "# 참고: chi2 검정으로도 이 검정을 바라볼 수 있습니다. \n",
    "from scipy.stats import chi2_contingency\n",
    "for i in range(3, 17):\n",
    "    print(i, \n",
    "        chi2_contingency(\n",
    "            pd.crosstab(\n",
    "                index=df_prob1['isna_{}'.format(i)],\n",
    "                columns=df_prob1['failure']\n",
    "            ), correction=False\n",
    "        )[1]\n",
    "    )"
   ]
  },
  {
   "cell_type": "markdown",
   "id": "df03a86a",
   "metadata": {},
   "source": [
    "## 단계 1-3\n",
    "\n",
    "검정 결과 귀무가설을 기각할 수 있는 경우는 총 두 건이다. \n",
    "\n",
    "해당 파생 변수명의 뒷 자리 번호 순으로 na_1, na_2로 파생 변수를 만들어 prob1 데이터셋을 생성하라."
   ]
  },
  {
   "cell_type": "code",
   "execution_count": 76,
   "id": "207e8c39",
   "metadata": {},
   "outputs": [],
   "source": [
    "df_prob1 = df_basetable.assign(\n",
    "    na_1 = lambda x: x['isna_3'],\n",
    "    na_2 = lambda x: x['isna_5']\n",
    ")"
   ]
  },
  {
   "cell_type": "markdown",
   "id": "c33bbf8c",
   "metadata": {},
   "source": [
    "A의 값을 소수점 넷째 자리에서 반올림하여 셋째 자리까지 출력하시오. \n",
    "\n",
    "**0.030**"
   ]
  },
  {
   "cell_type": "markdown",
   "id": "569d2d0f",
   "metadata": {},
   "source": [
    "# 문제 2\n",
    "\n",
    "첫째는 스프링 개발 업체들은 실험이 제품 별로 공정하게 진행이 됐는지를 의문을 가지고 있다.\n",
    "\n",
    "product_code에 따라 개발 업체가 다르다. \n",
    "\n",
    "product_code에 대해서 스프링에 가한 부하(loading)를 동일하게 했는지 조사하라.\n",
    "\n",
    "둘째는, attribute_0와 attribute_1은 스프링을 구성하는 주요 소재이다. \n",
    "\n",
    "failure와는 관계가 없음이 이전에 검증되었다. \n",
    "\n",
    "하지만, 이에 대한 재확인 요청을 받아 attribute_0와 attribute_1은 failure와 상관없음을 확인한다.\n",
    "\n",
    "이를 위해 다음 단계를 수행하라.\n"
   ]
  },
  {
   "cell_type": "code",
   "execution_count": null,
   "id": "8bb314a6",
   "metadata": {},
   "outputs": [],
   "source": []
  },
  {
   "cell_type": "markdown",
   "id": "cfc21275",
   "metadata": {},
   "source": [
    "## 단계 2-1\n",
    "\n",
    "prob1에서 입력 변수 loading에 결측이 없는 행들을 뽑아 prob2 데이터프레임을 만든다.\n",
    "\n",
    "Hint] prob2의 데이터 수는 21,257 이다.\n"
   ]
  },
  {
   "cell_type": "code",
   "execution_count": 85,
   "id": "d2ef461d",
   "metadata": {},
   "outputs": [
    {
     "data": {
      "text/plain": [
       "(21257, 42)"
      ]
     },
     "execution_count": 85,
     "metadata": {},
     "output_type": "execute_result"
    }
   ],
   "source": [
    "df_prob2 = df_prob1.loc[df_prob1['loading'].notna()].copy()\n",
    "df_prob2.shape"
   ]
  },
  {
   "cell_type": "markdown",
   "id": "82ebf527",
   "metadata": {},
   "source": [
    "## 단계 2-2\n",
    "\n",
    "prob2에 loading의 각 행들에 자연 로그 함수를 적용하여 파생 변수 loading_log를 만든다.\n"
   ]
  },
  {
   "cell_type": "code",
   "execution_count": 87,
   "id": "fb0152db",
   "metadata": {},
   "outputs": [],
   "source": [
    "df_prob2['loading_log'] = np.log(df_prob2['loading'])"
   ]
  },
  {
   "cell_type": "code",
   "execution_count": 88,
   "id": "be004785",
   "metadata": {},
   "outputs": [
    {
     "data": {
      "image/png": "[encoded data removed]",
      "text/plain": [
       "<Figure size 1400x300 with 2 Axes>"
      ]
     },
     "metadata": {},
     "output_type": "display_data"
    }
   ],
   "source": [
    "# 로그 변환이 어떤 효과를 보였는지, 보여주기 위한 참고용 코드입니다.\n",
    "# 좌측으로 치우친 loading 변수가 log 변환을 통해 좌우 대칭형으로 변환되었음을 확인할 수 있습니다.\n",
    "\n",
    "fig, axes = plt.subplots(1, 2, figsize=(14, 3) )\n",
    "sns.histplot(data=df_prob2, x='loading', ax=axes[0])\n",
    "sns.histplot(data=df_prob2, x='loading_log', ax=axes[1])\n",
    "plt.show()"
   ]
  },
  {
   "cell_type": "markdown",
   "id": "ea2245b2",
   "metadata": {},
   "source": [
    "## 단계 2-3\n",
    "\n",
    "loading_log가 product_code 각각에 대해서 정규성을 지니고 있는지 확인하고자 한다.\n",
    "\n",
    "이를 위해 product_code 별로 loading_log에 대한 Jarque-Bera로 검정하고, \n",
    "\n",
    "검정 결과 정규성을 부정할 수 없는 경우의 product_code의 수를 B라고 한다.(유의 수준: 5%)\n",
    "\n",
    "---\n",
    "\n",
    "**함수 가이드**\n",
    "\n",
    " scipy.stats 에서 제공 기능 활용\n",
    " \n",
    " 문제 지시사항 외 Default 값 사용\n",
    " \n",
    "---\n"
   ]
  },
  {
   "cell_type": "code",
   "execution_count": 97,
   "id": "1af35e87",
   "metadata": {},
   "outputs": [
    {
     "data": {
      "text/plain": [
       "3"
      ]
     },
     "execution_count": 97,
     "metadata": {},
     "output_type": "execute_result"
    }
   ],
   "source": [
    "# 방법1: groupby ~ apply\n",
    "df_jarque = df_prob2.groupby('product_code')['loading_log'].apply(\n",
    "    lambda x: pd.Series(jarque_bera(x), index=['stat', 'pvalue'])\n",
    ").unstack()\n",
    "B = len(df_jarque.query('pvalue >= 0.05'))\n",
    "B"
   ]
  },
  {
   "cell_type": "code",
   "execution_count": 92,
   "id": "713ee8e6",
   "metadata": {},
   "outputs": [
    {
     "name": "stdout",
     "output_type": "stream",
     "text": [
      "Jarque_beraResult(statistic=1.467731470333654, pvalue=0.4800496537264637)\n",
      "Jarque_beraResult(statistic=0.6168837955943998, pvalue=0.7345906322931469)\n",
      "Jarque_beraResult(statistic=7.536229242478234, pvalue=0.023095566154546443)\n",
      "Jarque_beraResult(statistic=0.04839464502051384, pvalue=0.9760930856160965)\n"
     ]
    }
   ],
   "source": [
    "# 방법2: 하드코딩\n",
    "from scipy.stats import jarque_bera\n",
    "print(jarque_bera(df_prob2.loc[df_prob2['product_code'] == 'A', 'loading_log']))\n",
    "print(jarque_bera(df_prob2.loc[df_prob2['product_code'] == 'B', 'loading_log']))\n",
    "print(jarque_bera(df_prob2.loc[df_prob2['product_code'] == 'C', 'loading_log']))\n",
    "print(jarque_bera(df_prob2.loc[df_prob2['product_code'] == 'E', 'loading_log']))"
   ]
  },
  {
   "cell_type": "markdown",
   "id": "dce7e5cf",
   "metadata": {},
   "source": [
    "## 단계 2-4\n",
    "\n",
    "loading_log 변수를 product_code로 구분했을 때, \n",
    "\n",
    "등분산성을 보이는지 Bartlett 검정을 통해 확인한다.\n",
    "\n",
    "검정 결과에서 p-value를 C라고 한다.\n",
    "\n",
    "---\n",
    "\n",
    "**함수 가이드**\n",
    "\n",
    " scipy.stats 에서 제공 기능 활용\n",
    " \n",
    " 문제 지시사항 외 Default 값 사용\n",
    " \n",
    "---\n"
   ]
  },
  {
   "cell_type": "code",
   "execution_count": 101,
   "id": "9a296812",
   "metadata": {},
   "outputs": [
    {
     "data": {
      "text/plain": [
       "(BartlettResult(statistic=1.928667047072185, pvalue=0.5873433093297675),\n",
       " 0.5873433093297675)"
      ]
     },
     "execution_count": 101,
     "metadata": {},
     "output_type": "execute_result"
    }
   ],
   "source": [
    "# 방법1 : groupby + list unpacking\n",
    "from scipy.stats import bartlett\n",
    "result_2_4 = bartlett(\n",
    "    *df_prob2.groupby('product_code')['loading_log'].agg(list)\n",
    ")\n",
    "C = result_2_4.pvalue\n",
    "result_2_4, C"
   ]
  },
  {
   "cell_type": "code",
   "execution_count": 98,
   "id": "ec4d8245",
   "metadata": {},
   "outputs": [
    {
     "data": {
      "text/plain": [
       "BartlettResult(statistic=1.928667047072185, pvalue=0.5873433093297675)"
      ]
     },
     "execution_count": 98,
     "metadata": {},
     "output_type": "execute_result"
    }
   ],
   "source": [
    "# 방법 2: 하드코딩\n",
    "from scipy.stats import bartlett\n",
    "bartlett(\n",
    "    df_prob2.loc[df_prob2['product_code'] == 'A', 'loading_log'],\n",
    "    df_prob2.loc[df_prob2['product_code'] == 'B', 'loading_log'],\n",
    "    df_prob2.loc[df_prob2['product_code'] == 'C', 'loading_log'],\n",
    "    df_prob2.loc[df_prob2['product_code'] == 'E', 'loading_log']\n",
    ")"
   ]
  },
  {
   "cell_type": "markdown",
   "id": "b058c6b2",
   "metadata": {},
   "source": [
    "## 단계 2-5\n",
    "\n",
    "product_code에 대한 분산분석(ANOVA)을 통해서 loading_log 평균에 차이가 있는지 검정한다.\n",
    "\n",
    "그 결과 중 p-value를 D라고 한다.\n",
    "\n",
    "---\n",
    "\n",
    "**함수 가이드**\n",
    "\n",
    " scipy.stats 제공 기능 활용\n",
    " \n",
    " 문제 지시사항 외 Default 값 사용\n",
    " \n",
    "---\n"
   ]
  },
  {
   "cell_type": "code",
   "execution_count": 105,
   "id": "ec47f9e0",
   "metadata": {},
   "outputs": [
    {
     "data": {
      "text/plain": [
       "(F_onewayResult(statistic=0.37177284134760413, pvalue=0.7733782072320899),\n",
       " 0.7733782072320899)"
      ]
     },
     "execution_count": 105,
     "metadata": {},
     "output_type": "execute_result"
    }
   ],
   "source": [
    "from scipy.stats import f_oneway\n",
    "\n",
    "result_2_5 = f_oneway(\n",
    "    *df_prob2.groupby('product_code')['loading_log'].agg(list)\n",
    ")\n",
    "D = result_2_5.pvalue\n",
    "result_2_5, D"
   ]
  },
  {
   "cell_type": "markdown",
   "id": "fec9e105",
   "metadata": {},
   "source": [
    "**Tip!**  일원분산분석을 직접 해봅니다.\n",
    "\n",
    "GroupBy에 대한 활용법을 더 알아보고, \n",
    "\n",
    "ANOVA에 대한 이해를 공고히 해보기 위해 예를 들어 보입니다."
   ]
  },
  {
   "cell_type": "code",
   "execution_count": 338,
   "id": "33e121f8",
   "metadata": {},
   "outputs": [
    {
     "data": {
      "text/plain": [
       "(0.3717728413460874, 0.7733782072333035, 0.7733782072326594)"
      ]
     },
     "execution_count": 338,
     "metadata": {},
     "output_type": "execute_result"
    }
   ],
   "source": [
    "# 통계량 F = MSR/MSE를 구하기 위해서는, \n",
    "# SSR, SSE와 SSR에서의 자유도(df1), SSE에서의 자유도(df2)를 구합니다.\n",
    "# 이를 통해, MSR, MSE를 구합니다.\n",
    "\n",
    "from scipy.stats import f\n",
    "\n",
    "# dof1 = 수준의 수 - 1\n",
    "dof_1 = df_prob2['product_code'].nunique() - 1\n",
    "# SSR은 (예측값(수준별 평균) - 평균) ** 2의 합입니다.\n",
    "x_mean = df_prob2['loading_log'].mean()\n",
    "SSR = ((df_prob2.groupby('product_code')['loading_log'].transform('mean') - x_mean) ** 2).sum()\n",
    "MSR = SSR / dof_1\n",
    "\n",
    "# df2 = 데이터의 수 - 수준의 수\n",
    "dof_2 = len(df_prob2) - df_prob2['product_code'].nunique()\n",
    "# SSE는 (예측값(수준별 평균) - 실제값) ** 2의 합입니다.\n",
    "SSE = df_prob2.groupby('product_code')['loading_log'].transform(lambda x: (x - x.mean()) ** 2).sum()\n",
    "MSE = SSE / dof_2\n",
    "F = MSR / MSE\n",
    "# 분산분석은 우측 검정입니다.\n",
    "F, 1 - f.cdf(F, dof_1, dof_2), f.sf(F, dof_1, dof_2)"
   ]
  },
  {
   "cell_type": "markdown",
   "id": "b3c23d2c",
   "metadata": {},
   "source": [
    "## 단계 2-6\n",
    "\n",
    "카이제곱검정을 통해 attribute_0, attribute_1의 결합값이 failure와 연관이 있는지 조사하라. \n",
    "\n",
    "attribute_0, attribute_1의 결합값의 의미 attribute_0=material_7, attribute_1=material_8 이라면, 이 둘의 결합값은\n",
    "matertial_7material_8를 의미한다.\n",
    "\n",
    "(유의 수준 1%) 연관이 있다면 E값은 1 없으면 0으로 한다.\n",
    "\n",
    "---\n",
    "\n",
    "**함수 가이드**\n",
    "\n",
    " scipy.stats.chi2_contingency, correction=False\n",
    " \n",
    " 문제 지시사항 외 Default 값 사용\n",
    " \n",
    "---\n"
   ]
  },
  {
   "cell_type": "code",
   "execution_count": 122,
   "id": "8b3530be",
   "metadata": {},
   "outputs": [
    {
     "data": {
      "text/plain": [
       "((7.0400463075335615,\n",
       "  0.029598749837407304,\n",
       "  2,\n",
       "  array([[4106.03584702, 1102.96415298],\n",
       "         [4162.79042198, 1118.20957802],\n",
       "         [8487.17373101, 2279.82626899]])),\n",
       " 0)"
      ]
     },
     "execution_count": 122,
     "metadata": {},
     "output_type": "execute_result"
    }
   ],
   "source": [
    "from scipy.stats import chi2_contingency\n",
    "\n",
    "df_conti = pd.crosstab(\n",
    "    index = df_prob2['attribute_0'] + df_prob2['attribute_1'],\n",
    "    columns = df_prob2['failure']\n",
    ")\n",
    "result_2_6 = chi2_contingency(\n",
    "    df_conti,\n",
    "    correction=False\n",
    ")\n",
    "\n",
    "# H0: 독립 -> 연관 X, H1:독립 x -> 연관 O\n",
    "E = 0 if result_2_6[1] >=0.01 else 1\n",
    "result_2_6, E"
   ]
  },
  {
   "cell_type": "markdown",
   "id": "fd85368f",
   "metadata": {},
   "source": [
    "**Tip!** Chi2 검정도 직접해봅니다.\n",
    "\n",
    "$chi2 = \\sum_{i,j}\\frac{(E_{ij} - O_{ij})^2}{E_{ij}}$"
   ]
  },
  {
   "cell_type": "code",
   "execution_count": 139,
   "id": "1f4d2cb5",
   "metadata": {},
   "outputs": [
    {
     "data": {
      "text/plain": [
       "(7.040046307533586, 0.029598749837406957)"
      ]
     },
     "execution_count": 139,
     "metadata": {},
     "output_type": "execute_result"
    }
   ],
   "source": [
    "from scipy.stats import chi2\n",
    "df_conti = pd.crosstab(\n",
    "    index = df_prob2['attribute_0'] + df_prob2['attribute_1'],\n",
    "    columns = df_prob2['failure']\n",
    ")\n",
    "# 직접하기 위해서는 예측 빈도수 테이블이 필요합니다.\n",
    "# index에 해당하는 변수의 빈도수와\n",
    "# column에 해당하는 변수의 비율(value_counts(normalize=True))을 행렬곱을 하면 구할 수 있습니다.\n",
    "# pandas의 행렬곱은 dot에서 제공되고 있으면, caller의 열이름과 callee의 인덱스를 기준으로 연산을 합니다. \n",
    "# 이를 일치시켜 주기위해 rename('val')을 해줍니다.\n",
    "df_expect = (df_prob2['attribute_0'] + df_prob2['attribute_1']).value_counts().rename('val').to_frame().dot(\n",
    "    df_prob2['failure'].value_counts(normalize=True).rename('val').to_frame().T\n",
    ")\n",
    "# 검정 통계량을 구합니다.\n",
    "CHI2 = ((df_conti - df_expect) ** 2 / df_expect).sum().sum()\n",
    "# chi2 검정에서의 자유도: 빈도수테이블의 (행의 수 - 1) × (열의 수  - 1)  = (3 - 1) × (2 - 1) = 2\n",
    "dof = ((df_prob2['attribute_0'] + df_prob2['attribute_1']).nunique() - 1) * (df_prob2['failure'].nunique() - 1)\n",
    "CHI2, 1 - chi2.cdf(CHI2, dof)"
   ]
  },
  {
   "cell_type": "code",
   "execution_count": 146,
   "id": "e269eda1",
   "metadata": {},
   "outputs": [
    {
     "data": {
      "text/plain": [
       "(3, 0.5873433093297675, 0.7733782072320899, 0, 4.360721516561858)"
      ]
     },
     "execution_count": 146,
     "metadata": {},
     "output_type": "execute_result"
    }
   ],
   "source": [
    "B, C, D, E, B + C + D + E"
   ]
  },
  {
   "cell_type": "markdown",
   "id": "af42805f",
   "metadata": {},
   "source": [
    "B + C + D + E의 값을 소수점 셋째 자리에서 반올림하여 둘째 자리까지 출력하시오.\n",
    "\n",
    "**4.36**"
   ]
  },
  {
   "cell_type": "markdown",
   "id": "e3fe1afc",
   "metadata": {},
   "source": [
    "# 문제 3\n",
    "\n",
    "로지스틱 회귀모델로 수치형 변수 measurement_0 ~ 17, \n",
    "\n",
    "loading과 이진형인 na_1, na_2 중에서 최적의 성능을 보이는 입력 변수들을 찾고자 한다.\n"
   ]
  },
  {
   "cell_type": "code",
   "execution_count": null,
   "id": "17a63c49",
   "metadata": {},
   "outputs": [],
   "source": []
  },
  {
   "cell_type": "markdown",
   "id": "a1ec19e2",
   "metadata": {},
   "source": [
    "## 단계 3-1\n",
    "\n",
    "prob1을 복사하여 prob3을 만든다. loading의 결측치는 loading의 평균으로 대치한다.  "
   ]
  },
  {
   "cell_type": "code",
   "execution_count": 294,
   "id": "74e376a6",
   "metadata": {},
   "outputs": [
    {
     "data": {
      "text/plain": [
       "product_code      0\n",
       "loading           0\n",
       "attribute_0       0\n",
       "attribute_1       0\n",
       "attribute_2       0\n",
       "attribute_3       0\n",
       "measurement_0     0\n",
       "measurement_1     0\n",
       "measurement_2     0\n",
       "measurement_3     0\n",
       "measurement_4     0\n",
       "measurement_5     0\n",
       "measurement_6     0\n",
       "measurement_7     0\n",
       "measurement_8     0\n",
       "measurement_9     0\n",
       "measurement_10    0\n",
       "measurement_11    0\n",
       "measurement_12    0\n",
       "measurement_13    0\n",
       "measurement_14    0\n",
       "measurement_15    0\n",
       "measurement_16    0\n",
       "measurement_17    0\n",
       "failure           0\n",
       "isna_3            0\n",
       "isna_4            0\n",
       "isna_5            0\n",
       "isna_6            0\n",
       "isna_7            0\n",
       "isna_8            0\n",
       "isna_9            0\n",
       "isna_10           0\n",
       "isna_11           0\n",
       "isna_12           0\n",
       "isna_13           0\n",
       "isna_14           0\n",
       "isna_15           0\n",
       "isna_16           0\n",
       "isna_17           0\n",
       "na_1              0\n",
       "na_2              0\n",
       "dtype: int64"
      ]
     },
     "execution_count": 294,
     "metadata": {},
     "output_type": "execute_result"
    }
   ],
   "source": [
    "df_prob3 = df_prob1.assign(\n",
    "    loading = df_prob1['loading'].fillna(df_prob1['loading'].mean())\n",
    ")\n",
    "df_prob3.isna().sum()"
   ]
  },
  {
   "cell_type": "code",
   "execution_count": 295,
   "id": "8a2ab5e1",
   "metadata": {},
   "outputs": [],
   "source": [
    "# 방법2\n",
    "df_prob3 = df_prob1.copy()\n",
    "df_prob3['loading'] = df_prob3['loading'].fillna(df_prob3['loading'].mean())"
   ]
  },
  {
   "cell_type": "markdown",
   "id": "61eb5594",
   "metadata": {},
   "source": [
    "## 단계 3-2: \n",
    "    \n",
    "prob3를 80%는 학습데이터 prob3_train으로 20%는 테스트데이터 prob3_test로 나눈다. \n",
    "\n",
    "prob3_train의 failure가 1인 비율과 prob3_test의 failure가 1의 비율을 동일하게 한다.\n",
    "\n",
    "\n",
    "---\n",
    "\n",
    "**함수 가이드**\n",
    "\n",
    " sklearn.model_selection.train_test_split, random_state=123, \n",
    " \n",
    " train과 test의 failure의 비율은 stratify 매개 변수를 이용하여 맞춘다.\n",
    " \n",
    " 문제 지시사항 외 Default 값 사용\n",
    " \n",
    "---"
   ]
  },
  {
   "cell_type": "code",
   "execution_count": 296,
   "id": "ac987b08",
   "metadata": {},
   "outputs": [],
   "source": [
    "from sklearn.model_selection import train_test_split \n",
    "\n",
    "# stratify에 비율을 맞추고자 하는 변수(pd.Series, np.array ... )를 넣어주면 층화 분리를 합니다.\n",
    "df_prob3_train, df_prob3_test = train_test_split(\n",
    "    df_prob3, train_size=0.8, stratify=df_prob3['failure'], random_state=123\n",
    ")\n",
    "# 시험장 버젼의 train_test_split 는 reference 상태인 DataFrame을 넘겨줍니다.\n",
    "# .copy()를 통해 수정에도 문제가 없도록 합니다.\n",
    "df_prob3_train, df_prob3_test = df_prob3_train.copy(), df_prob3_test.copy()"
   ]
  },
  {
   "cell_type": "code",
   "execution_count": 297,
   "id": "4dc7451c",
   "metadata": {},
   "outputs": [
    {
     "data": {
      "text/html": [
       "<div>\n",
       "<style scoped>\n",
       "    .dataframe tbody tr th:only-of-type {\n",
       "        vertical-align: middle;\n",
       "    }\n",
       "\n",
       "    .dataframe tbody tr th {\n",
       "        vertical-align: top;\n",
       "    }\n",
       "\n",
       "    .dataframe thead th {\n",
       "        text-align: right;\n",
       "    }\n",
       "</style>\n",
       "<table border=\"1\" class=\"dataframe\">\n",
       "  <thead>\n",
       "    <tr style=\"text-align: right;\">\n",
       "      <th></th>\n",
       "      <th>train</th>\n",
       "      <th>test</th>\n",
       "    </tr>\n",
       "  </thead>\n",
       "  <tbody>\n",
       "    <tr>\n",
       "      <td>0</td>\n",
       "      <td>0.788535</td>\n",
       "      <td>0.788677</td>\n",
       "    </tr>\n",
       "    <tr>\n",
       "      <td>1</td>\n",
       "      <td>0.211465</td>\n",
       "      <td>0.211323</td>\n",
       "    </tr>\n",
       "  </tbody>\n",
       "</table>\n",
       "</div>"
      ],
      "text/plain": [
       "      train      test\n",
       "0  0.788535  0.788677\n",
       "1  0.211465  0.211323"
      ]
     },
     "execution_count": 297,
     "metadata": {},
     "output_type": "execute_result"
    }
   ],
   "source": [
    "# 처리 결과를 확인합니다.\n",
    "pd.concat([\n",
    "    df_prob3_train['failure'].value_counts(normalize=True).rename('train'),\n",
    "    df_prob3_test['failure'].value_counts(normalize=True).rename('test')\n",
    "], axis=1)"
   ]
  },
  {
   "cell_type": "markdown",
   "id": "e7716c3a",
   "metadata": {},
   "source": [
    "## 단계 3-3\n",
    "\n",
    "prob3_train의 수치형 입력 변수 loading, measurement_0 ~ 17을 표준화한다. \n",
    "\n",
    "prob3_train의 표준화 설정으로 prob3_test의 loading, measurement_0 ~ 17에도 적용한다. \n",
    "\n",
    "표준화 처리한 prob3_train과 prob3_test는 문제 4와 문제 5에서 사용한다.\n",
    "\n",
    "\n",
    "---\n",
    "\n",
    "**함수 가이드**\n",
    "\n",
    " sklearn.preprocessing 제공 기능 활용, \n",
    " \n",
    " 문제 지시사항 외 Default 값 사용\n",
    " \n",
    "---\n"
   ]
  },
  {
   "cell_type": "code",
   "execution_count": 298,
   "id": "bf17f958",
   "metadata": {},
   "outputs": [],
   "source": [
    "from sklearn.preprocessing import StandardScaler\n",
    "\n",
    "std_scaler = StandardScaler()\n",
    "X_std = ['loading'] + ['measurement_{}'.format(i) for i in range(0, 18)]\n",
    "df_prob3_train[X_std] = std_scaler.fit_transform(df_prob3_train[X_std])\n",
    "df_prob3_test[X_std] = std_scaler.transform(df_prob3_test[X_std])"
   ]
  },
  {
   "cell_type": "markdown",
   "id": "b20b6ef8",
   "metadata": {},
   "source": [
    "## 단계 3-4\n",
    "    \n",
    "로지스틱 회귀모델을 사용하여 loading, measurement_0~17과 na_1, na_2를 입력 변수로 하여 prob3_train을 학습한다. \n",
    "\n",
    "로지스틱 회귀모델을 prob3_test로 성능을 측정한 값을 A라고 한다.\n",
    "\n",
    "입력 변수: loading, measurement_0~17, na_1, na_2\n",
    "\n",
    "대상 변수: failure\n",
    "\n",
    "성능 지표: AUC(area under of ROC curve)\n",
    "\n",
    "---\n",
    "\n",
    "**함수 가이드**\n",
    "\n",
    " sklearn.linear_model.LogisticRegression, solver='lbfgs', 문제 지시사항 외 Default 값 사용\n",
    " \n",
    " sklearn.metrics.roc_auc_score\n",
    " \n",
    "---"
   ]
  },
  {
   "cell_type": "code",
   "execution_count": 299,
   "id": "fb86e3fd",
   "metadata": {},
   "outputs": [
    {
     "data": {
      "text/plain": [
       "0.5792951262053387"
      ]
     },
     "execution_count": 299,
     "metadata": {},
     "output_type": "execute_result"
    }
   ],
   "source": [
    "from sklearn.linear_model import LogisticRegression\n",
    "# roc_auc는 순위기반의 지표입니다. positive의 정도를 나타내는 수치(예측 결과)를 넘겨줍니다. \n",
    "from sklearn.metrics import roc_auc_score\n",
    "\n",
    "X_lr = ['loading'] + ['measurement_{}'.format(i) for i in range(0, 18)] + ['na_1', 'na_2']\n",
    "clf_lr = LogisticRegression(solver='lbfgs')\n",
    "clf_lr.fit(df_prob3_train[X_lr], df_prob3_train['failure'])\n",
    "# Positive 정도를 나타내는 수치로 Positive Class일 확률을 넘깁니다.\n",
    "A = roc_auc_score(df_prob3_test['failure'], clf_lr.predict_proba(df_prob3_test[X_lr])[:, 1])\n",
    "A"
   ]
  },
  {
   "cell_type": "code",
   "execution_count": 300,
   "id": "b1aa6074",
   "metadata": {},
   "outputs": [
    {
     "data": {
      "text/plain": [
       "0.5792951262053387"
      ]
     },
     "execution_count": 300,
     "metadata": {},
     "output_type": "execute_result"
    }
   ],
   "source": [
    "# LogisticRegression 의 decision_function은 Logit을 줍니다. \n",
    "# 이 로짓을 넘겨도 유효합니다.\n",
    "roc_auc_score(df_prob3_test['failure'], clf_lr.decision_function(df_prob3_test[X_lr]))"
   ]
  },
  {
   "cell_type": "code",
   "execution_count": 301,
   "id": "7964b4de",
   "metadata": {},
   "outputs": [
    {
     "data": {
      "text/plain": [
       "0.5778277926972065"
      ]
     },
     "execution_count": 301,
     "metadata": {},
     "output_type": "execute_result"
    }
   ],
   "source": [
    "# 스프링에 가한 부하와 실패 가능성은 비례합니다. loding을 전달해 봅니다.\n",
    "from sklearn.metrics import roc_auc_score\n",
    "roc_auc_score(df_prob3_test['failure'], df_prob3_test['loading'])"
   ]
  },
  {
   "cell_type": "code",
   "execution_count": 302,
   "id": "9aa37565",
   "metadata": {},
   "outputs": [],
   "source": [
    "# ROC AUC를 직접 구해봅니다.\n",
    "# 이는 근사치를 구하는 방법입니다.\n",
    "num_pos = (df_prob3_test['failure'] == 1).sum()\n",
    "num_neg = (df_prob3_test['failure'] == 0).sum()\n",
    "tprs, fprs = list(), list()\n",
    "proba = clf_lr.predict_proba(df_prob3_test[X_lr])[:, 1]\n",
    "# Positive일 결정 기준을 0 ~ 1 까지 0.1 간격으로 변경해가면서,\n",
    "# TPR, FPR을 구합니다. \n",
    "for i in np.arange(0, 1.1, 0.1):\n",
    "    prd = (proba >= i).astype(int)\n",
    "    tp = ((prd == 1) & (df_prob3_test['failure'] == 1)).sum()\n",
    "    fp = ((prd == 1) & (df_prob3_test['failure'] == 0)).sum()\n",
    "    tprs.append(tp / num_pos)\n",
    "    fprs.append(fp / num_neg)"
   ]
  },
  {
   "cell_type": "code",
   "execution_count": 303,
   "id": "0055e5c5",
   "metadata": {},
   "outputs": [
    {
     "data": {
      "text/plain": [
       "0.7671261923102605"
      ]
     },
     "execution_count": 303,
     "metadata": {},
     "output_type": "execute_result"
    }
   ],
   "source": [
    "# 근사면적을 구하는 과정입니다.\n",
    "pd.DataFrame(\n",
    "    {\n",
    "        'tpr' : tprs,\n",
    "        'fpr': fprs\n",
    "    }\n",
    ").sort_values('fpr').assign(\n",
    "    fpr_1 = lambda x: x['fpr'].shift(1).fillna(0)\n",
    ").assign(\n",
    "    sq = lambda x: (x['fpr'] - x['fpr_1']) * x['tpr']\n",
    ")['sq'].sum()"
   ]
  },
  {
   "cell_type": "code",
   "execution_count": 304,
   "id": "36a4a56c",
   "metadata": {},
   "outputs": [
    {
     "data": {
      "text/plain": [
       "0.5792951262053387"
      ]
     },
     "execution_count": 304,
     "metadata": {},
     "output_type": "execute_result"
    }
   ],
   "source": [
    "# ROC AUC의 실제 값을 구해봅니다. \n",
    "df_prob3_test[['failure']].assign(\n",
    "    score = clf_lr.decision_function(df_prob3_test[X_lr])\n",
    ").sort_values('score', ascending=False).assign(\n",
    "    fpr=lambda x: (1-x['failure']).cumsum() / (1 - x['failure']).sum(),\n",
    "    tpr=lambda x: (x['failure']).cumsum() / ( x['failure']).sum(),\n",
    ").assign(\n",
    "    fpr_1 = lambda x: x['fpr'].shift(1).fillna(0)\n",
    ").assign(\n",
    "    sq = lambda x: (x['fpr'] - x['fpr_1']) * x['tpr']\n",
    ")['sq'].sum()"
   ]
  },
  {
   "cell_type": "code",
   "execution_count": 305,
   "id": "f8768477",
   "metadata": {},
   "outputs": [
    {
     "data": {
      "image/png": "[encoded data removed]",
      "text/plain": [
       "<Figure size 600x500 with 1 Axes>"
      ]
     },
     "metadata": {},
     "output_type": "display_data"
    }
   ],
   "source": [
    "# ROC AUC를 그려봅니다.\n",
    "plt.figure(figsize=(6, 5))\n",
    "plt.plot([0, 1], [0, 1], color='orange', linestyle='--')\n",
    "df_prob3_test[['failure']].assign(\n",
    "    score = clf_lr.decision_function(df_prob3_test[X_lr])\n",
    ").sort_values('score', ascending=False).assign(\n",
    "    fpr=lambda x: (1-x['failure']).cumsum() / (1 - x['failure']).sum(),\n",
    "    tpr=lambda x: (x['failure']).cumsum() / ( x['failure']).sum(),\n",
    ").pipe(\n",
    "    lambda x: plt.plot(x['fpr'], x['tpr'])\n",
    ")\n",
    "plt.show()"
   ]
  },
  {
   "cell_type": "markdown",
   "id": "7cba372a",
   "metadata": {},
   "source": [
    "## 단계 3-5\n",
    "\n",
    "loading, measurement_0 ~ 17, na_1, na_2를 후보 입력 변수로 한다. \n",
    "\n",
    "전진 선택법을 사용하여 이 후보 입력 변수 중에서 최적의 성능을 보이는 입력 변수의 조합을 찾는다. \n",
    "\n",
    "전진 선택법의 선택 기준은 prob3_train을 대상으로 5겹 층화교차검증(5-Fold stratified cross validation)을 하고 \n",
    "\n",
    "겹외(OOF, Out-Of Fold) 성능의 평균값으로 한다. 전진 선택 과정에서 선택했던 변수를 제외하지 않는다. \n",
    "\n",
    "입력 변수: 본 단계 요건 참고\n",
    "\n",
    "대상 변수: failure \n",
    "\n",
    "성능 지표: AUC(area under of ROC curve)\n",
    "\n",
    "---\n",
    "**함수가이드**\n",
    "\n",
    "mlxtend.feature_selection.SequentialFeatureSelector\n",
    "\n",
    "sklearn.linear_model.LogisticRegression, solver='lbfgs'\n",
    "\n",
    "sklearn.metrics.roc_auc_score\n",
    "\n",
    "sklearn.model_selection.StratifiedKFold, random_state=123, shuffle=True\n",
    "\n",
    "문제 지시사항 외 Default 값 사용\n",
    "\n",
    "---"
   ]
  },
  {
   "cell_type": "code",
   "execution_count": 307,
   "id": "9713233f",
   "metadata": {},
   "outputs": [
    {
     "data": {
      "text/plain": [
       "SequentialFeatureSelector(clone_estimator=True,\n",
       "                          cv=StratifiedKFold(n_splits=5, random_state=123, shuffle=True),\n",
       "                          estimator=LogisticRegression(C=1.0, class_weight=None,\n",
       "                                                       dual=False,\n",
       "                                                       fit_intercept=True,\n",
       "                                                       intercept_scaling=1,\n",
       "                                                       l1_ratio=None,\n",
       "                                                       max_iter=100,\n",
       "                                                       multi_class='warn',\n",
       "                                                       n_jobs=None,\n",
       "                                                       penalty='l2',\n",
       "                                                       random_state=None,\n",
       "                                                       solver='lbfgs',\n",
       "                                                       tol=0.0001, verbose=0,\n",
       "                                                       warm_start=False),\n",
       "                          floating=False, forward=True, k_features='best',\n",
       "                          n_jobs=1, pre_dispatch='2*n_jobs', scoring='roc_auc',\n",
       "                          verbose=0)"
      ]
     },
     "execution_count": 307,
     "metadata": {},
     "output_type": "execute_result"
    }
   ],
   "source": [
    "from mlxtend.feature_selection import SequentialFeatureSelector\n",
    "from sklearn.linear_model import LogisticRegression\n",
    "from sklearn.metrics import roc_auc_score\n",
    "from sklearn.model_selection import StratifiedKFold\n",
    "\n",
    "X_sfs = ['loading'] + ['measurement_{}'.format(i) for i in range(0, 18)] + ['na_1', 'na_2']\n",
    "sfs = SequentialFeatureSelector(\n",
    "    estimator = LogisticRegression(solver='lbfgs'),\n",
    "    forward=True, # 전진 선택법을 사용하여 이 후보 입력 변수 중에서 \n",
    "    k_features='best', # 최적의 성능을 보이는 입력 변수의 조합을 찾는다.\n",
    "    cv=StratifiedKFold(n_splits=5, random_state=123, shuffle=True), # 5겹 층화교차검증(5-Fold stratified cross validation)을 하고\n",
    "    floating=False, # 전진 선택 과정에서 선택했던 변수를 제외하지 않는다.\n",
    "    scoring='roc_auc', # _score 끝나면, _score 제외 ex) 'accuracy', _error 끝나면, neg_를 붙입니다. ex) 'neg_mean_squared_error'\n",
    ")\n",
    "sfs.fit(df_prob3_train[X_sfs], df_prob3_train['failure'])"
   ]
  },
  {
   "cell_type": "code",
   "execution_count": 308,
   "id": "058c106e",
   "metadata": {},
   "outputs": [
    {
     "data": {
      "text/plain": [
       "(0.5917537024093409,\n",
       " ['loading',\n",
       "  'measurement_1',\n",
       "  'measurement_4',\n",
       "  'measurement_14',\n",
       "  'measurement_17',\n",
       "  'na_1'])"
      ]
     },
     "execution_count": 308,
     "metadata": {},
     "output_type": "execute_result"
    }
   ],
   "source": [
    "X_sfs_best = list(sfs.k_feature_names_)\n",
    "sfs.k_score_, X_sfs_best"
   ]
  },
  {
   "cell_type": "markdown",
   "id": "2e7c6893",
   "metadata": {},
   "source": [
    "## 단계 3-6\n",
    "\n",
    "단계 3-5에서 찾은 최적의 입력 변수 조합으로 로지스틱 회귀모델을 사용하여 prob3_train을 학습하고 \n",
    "\n",
    "prob3_test로 성능을 측정한 값을 B라고 한다.\n",
    "\n",
    "입력 변수: **단계 3-5**에서 도출한 최적의 입력 변수 조합\n",
    "\n",
    "대상 변수: failure\n",
    "\n",
    "성능 지표: AUC(area under of ROC curve)\n",
    "\n",
    "---\n",
    "**함수 가이드**\n",
    "\n",
    "sklearn.linear_model.LogisticRegression, solver='lbfgs'\n",
    "\n",
    "sklearn.metrics.roc_auc_score\n",
    "\n",
    "문제 지시사항 외 Default 값 사용\n",
    "\n",
    "---"
   ]
  },
  {
   "cell_type": "code",
   "execution_count": 309,
   "id": "8d96e152",
   "metadata": {},
   "outputs": [
    {
     "data": {
      "text/plain": [
       "(0.5838326230092876, 0.5936682060775388)"
      ]
     },
     "execution_count": 309,
     "metadata": {},
     "output_type": "execute_result"
    }
   ],
   "source": [
    "from sklearn.linear_model import LogisticRegression\n",
    "from sklearn.metrics import roc_auc_score\n",
    "\n",
    "clf_lr = LogisticRegression(solver = 'lbfgs')\n",
    "clf_lr.fit(df_prob3_train[X_sfs_best], df_prob3_train['failure'])\n",
    "B = roc_auc_score(df_prob3_test['failure'], clf_lr.predict_proba(df_prob3_test[X_sfs_best])[:, 1])\n",
    "(\n",
    "    B,\n",
    "    roc_auc_score(df_prob3_train['failure'], clf_lr.predict_proba(df_prob3_train[X_sfs_best])[:, 1])\n",
    ")"
   ]
  },
  {
   "cell_type": "code",
   "execution_count": 310,
   "id": "5efecd25",
   "metadata": {},
   "outputs": [
    {
     "data": {
      "text/plain": [
       "(0.5792951262053387, 0.5838326230092876, -0.004537496803948882)"
      ]
     },
     "execution_count": 310,
     "metadata": {},
     "output_type": "execute_result"
    }
   ],
   "source": [
    "A, B, A - B"
   ]
  },
  {
   "cell_type": "markdown",
   "id": "fac40eec",
   "metadata": {},
   "source": [
    "A-B값을 소수점 넷째 자리에서 반올림하여 셋째 자리까지 출력하시오\n",
    "\n",
    "**-0.005**"
   ]
  },
  {
   "cell_type": "markdown",
   "id": "4ed67461",
   "metadata": {},
   "source": [
    "# 문제 4\n",
    "\n",
    "차원 축소 기법을 통한 데이터의 특성과 failure 분류 성능을 높힐 만한 요소를 살펴 본다. \n",
    "\n",
    "첫째로, loading을 제외하고, measurement_0 ~ 17을 입력으로 failure를 대상 변수로 Linear Discrimant Analysis(LDA) 모델을 만든다. \n",
    "\n",
    "True/False 이진 변수인 failure를 분류한다는 점에서 LDA 모델은 measurement_0 ~ 17를 한 개의 경계점으로 \n",
    "\n",
    "failure를 최대한 정확하게 구분하도록 하나의 연속형 변수로 변환한다. \n",
    "\n",
    "스프링의 내구력이 높을 수록 failure 확률이 낮아진다면, \n",
    "\n",
    "측정값 measurement_0 ~ 17의 LDA 변환값은 스프링의 내구력을 나타낸다라고 할 수 있다.\n",
    "\n",
    "실험에서 스프링에 가한 부하(loading)와  LDA 변환값의 상관도를 측정하여, \n",
    "\n",
    "측정값 measurement_0~17 에서 예상되는 내구력이 스프링에 따라 부하(loading)의 반영 정도를 가늠한다.\n",
    "\n",
    "둘째로, PCA를 사용하여 차원 감소로 failure 분류 성능에 얼마나 효과가 있을지 살펴본다.\n",
    "\n",
    "문제3에서 사용했던, 전처리(loading 결측치 처리와 표준화 과정을 거친) 과정을 거친 prob3_train과 prob3_test를 사용한다.\n"
   ]
  },
  {
   "cell_type": "code",
   "execution_count": null,
   "id": "05ee8e76",
   "metadata": {},
   "outputs": [],
   "source": []
  },
  {
   "cell_type": "markdown",
   "id": "3579a749",
   "metadata": {},
   "source": [
    "## 단계 4-1\n",
    "\n",
    "prob3_train에서 measurement_0 ~ 17을 입력으로 failure를 대상 변수로 하여 LDA(Linear Discriminant Analysis) 모델을 학습한다. \n",
    "\n",
    "measurement_0 ~ 17에 대한 prob3_train에서의 LDA의 변환값과 loading과 스피어만 상관도 (spearman correlation)의 p-value를 구하여 A라고 한다.\n",
    "\n",
    "입력 변수] measurement_0 ~ 17 (순서에 유의 하시오)\n",
    "\n",
    "대상 변수] failure\n",
    "\n",
    "---\n",
    "**함수가이드**\n",
    "\n",
    "sklearn.discriminant_analysis 제공 기능 활용\n",
    "\n",
    "scipy.stats.spearmanr\n",
    "\n",
    "문제 지시사항 외 Default 값 사용\n",
    "\n",
    "---"
   ]
  },
  {
   "cell_type": "code",
   "execution_count": 311,
   "id": "b6bbc9a0",
   "metadata": {},
   "outputs": [
    {
     "data": {
      "text/plain": [
       "LinearDiscriminantAnalysis(n_components=None, priors=None, shrinkage=None,\n",
       "                           solver='svd', store_covariance=False, tol=0.0001)"
      ]
     },
     "execution_count": 311,
     "metadata": {},
     "output_type": "execute_result"
    }
   ],
   "source": [
    "from sklearn.discriminant_analysis import LinearDiscriminantAnalysis\n",
    "lda = LinearDiscriminantAnalysis()\n",
    "\n",
    "X_lda = ['measurement_{}'.format(i) for i in range(18)]\n",
    "lda.fit(df_prob3_train[X_lda], df_prob3_train['failure'])"
   ]
  },
  {
   "cell_type": "code",
   "execution_count": 312,
   "id": "e4c7787d",
   "metadata": {},
   "outputs": [
    {
     "data": {
      "text/plain": [
       "(SpearmanrResult(correlation=0.0029462997112993335, pvalue=0.6995009550811424),\n",
       " 0.6995009550811424)"
      ]
     },
     "execution_count": 312,
     "metadata": {},
     "output_type": "execute_result"
    }
   ],
   "source": [
    "from scipy.stats import spearmanr\n",
    "\n",
    "# LDA는 predict label 예측 기능을 제공합니다. \n",
    "# transform은 변환값을 가져옵니다.\n",
    "result_4_1 = spearmanr(\n",
    "    lda.transform(df_prob3_train[X_lda])[:, 0],\n",
    "    df_prob3_train['loading']\n",
    ")\n",
    "A = result_4_1.pvalue\n",
    "result_4_1, A"
   ]
  },
  {
   "cell_type": "markdown",
   "id": "1e726a4a",
   "metadata": {},
   "source": [
    "## 단계 4-2\n",
    "\n",
    "prob3_train에서 measurement_0 ~ 17을 대상으로 주성분분석(Principal Component Analysis, PCA) 모델을 학습한다. \n",
    "\n",
    "분산 설명율이 높은 순으로 주성분을 변수명을 pca_0 ~ 17하여 prob3_train에 추가하여 prob4_train을 만든다. \n",
    "\n",
    "prob3_test에 prob3_train를 학습했던 PCA 모델로 동일한 방법으로 pca_0 ~17 파생 변수를 추가하여 prob4_test를 만든다.\n",
    "\n",
    "입력 변수] measurement_0 ~ 17 (순서에 유의 하시오)\n",
    "\n",
    "---\n",
    "**함수가이드**\n",
    "\n",
    "sklearn.decomposition.PCA, random_state=123\n",
    "\n",
    "문제 지시사항 외 Default 값 사용\n",
    "\n",
    "---\n"
   ]
  },
  {
   "cell_type": "code",
   "execution_count": 330,
   "id": "2934c155",
   "metadata": {},
   "outputs": [
    {
     "data": {
      "text/plain": [
       "PCA(copy=True, iterated_power='auto', n_components=None, random_state=123,\n",
       "    svd_solver='auto', tol=0.0, whiten=False)"
      ]
     },
     "execution_count": 330,
     "metadata": {},
     "output_type": "execute_result"
    }
   ],
   "source": [
    "from sklearn.decomposition import PCA\n",
    "X_pca = ['measurement_{}'.format(i) for i in range(18)]\n",
    "# pca.explained_variance_: Cov Matrix의 고윳값(eigen value)\n",
    "# pca.components_: 고유벡터(eigen value.T)\n",
    "# n_components를 지정을 하지 않으면, 모든 성분을 가져옵니다.\n",
    "pca = PCA(random_state=123)\n",
    "pca.fit(df_prob3_train[X_pca])"
   ]
  },
  {
   "cell_type": "code",
   "execution_count": 331,
   "id": "69e8fd88",
   "metadata": {},
   "outputs": [],
   "source": [
    "# 시험장 버젼의 pandas는 numpy array된 여러개의 파생변수를 생성하지 못합니다.\n",
    "# pca에서 transform은 2-차원 numpy array인데요, 복수개의 컬럼을 추가하려면\n",
    "# 아래와 같이 DataFrame으로 만들어주어야 합니다. \n",
    "# 이 때 인덱스를 추가하려는 데이터프레임과 맞추어 주어야 의도한대로 추가가 됩니다. \n",
    "# 이 점 꼭 유의하세요!\n",
    "\n",
    "X_comp = ['pca_{}'.format(i) for i in range(18)]\n",
    "df_prob4_train = df_prob3_train.copy()\n",
    "df_prob4_train[X_comp] = pd.DataFrame(\n",
    "    pca.transform(df_prob3_train[X_pca]),\n",
    "    index=df_prob3_train.index,\n",
    "    columns = X_comp\n",
    ")"
   ]
  },
  {
   "cell_type": "code",
   "execution_count": 332,
   "id": "f8cf446c",
   "metadata": {},
   "outputs": [],
   "source": [
    "df_prob4_test = df_prob3_test.copy()\n",
    "df_prob4_test[X_comp] = pd.DataFrame(\n",
    "    pca.transform(df_prob3_test[X_pca]),\n",
    "    index=df_prob3_test.index,\n",
    "    columns = X_comp\n",
    ")"
   ]
  },
  {
   "cell_type": "code",
   "execution_count": 333,
   "id": "8c505a08",
   "metadata": {},
   "outputs": [
    {
     "data": {
      "text/plain": [
       "(array([1.85613793, 1.41894459, 1.25547315, 1.1632852 , 1.06637856,\n",
       "        1.05000212, 1.01995967, 1.00922255, 1.00657757, 0.99213623,\n",
       "        0.98552903, 0.97614082, 0.97170312, 0.87532548, 0.81399432,\n",
       "        0.70771288, 0.67969009, 0.15283534]),\n",
       " array([[ 2.28825215e-02, -1.95820115e-02, -1.50969535e-02,\n",
       "          5.03936850e-02,  2.04059958e-01,  3.71116602e-01,\n",
       "          1.90528842e-01,  2.68948557e-01,  4.27063917e-01,\n",
       "          1.64704645e-01, -9.90499300e-03, -2.25986746e-02,\n",
       "          2.79911722e-03, -3.38947276e-02,  1.15264672e-02,\n",
       "         -2.01818790e-02, -2.79358660e-02,  7.04077867e-01],\n",
       "        [ 5.26517299e-01, -5.62469609e-01, -1.03690168e-01,\n",
       "          1.68545302e-02, -4.24473546e-02,  3.67396068e-02,\n",
       "          8.15294760e-04,  2.13516146e-02, -5.95202053e-02,\n",
       "         -1.80437358e-03,  8.02201176e-03,  2.45695490e-01,\n",
       "          3.80475535e-01, -1.44570001e-01, -1.13087281e-01,\n",
       "         -3.83713117e-01,  3.95533836e-02, -2.31516653e-02],\n",
       "        [-1.86390512e-01,  7.48102207e-02,  1.42813683e-01,\n",
       "          3.88896371e-03,  5.28362867e-02,  7.75108282e-03,\n",
       "          2.93556303e-02, -1.66070175e-02,  3.18732884e-02,\n",
       "         -2.29023415e-02, -9.28705715e-02,  3.65113689e-01,\n",
       "          2.86044694e-01,  2.98757931e-01, -3.96738953e-01,\n",
       "          1.70771717e-01,  6.57852278e-01,  3.70971902e-02],\n",
       "        [-3.52613280e-01,  3.30151041e-01, -8.04257816e-02,\n",
       "          3.23078581e-03,  4.03302713e-02,  3.78484985e-02,\n",
       "         -2.15992299e-02, -2.71718982e-02, -2.91516986e-02,\n",
       "         -4.63556759e-03, -2.26710993e-01,  4.41333040e-01,\n",
       "          1.47127511e-01, -5.33182570e-01, -2.14552001e-01,\n",
       "         -2.83855264e-01, -2.76157922e-01, -8.81917564e-03],\n",
       "        [ 2.90190694e-02, -1.05361186e-01,  1.13743587e-01,\n",
       "         -6.03971411e-02,  1.93537283e-01,  9.93828697e-02,\n",
       "         -8.84440200e-02, -1.37312300e-01, -3.69189783e-02,\n",
       "         -5.37951506e-02, -7.01265362e-01,  7.28586783e-02,\n",
       "          1.44512304e-01, -4.77442184e-02,  5.74673542e-01,\n",
       "          1.81506939e-01,  9.86940142e-02, -4.91435536e-03],\n",
       "        [-2.67110772e-01, -6.24938794e-02,  6.59856942e-01,\n",
       "          2.10427773e-01, -1.96963148e-01,  1.08322397e-01,\n",
       "          7.04512985e-02,  2.41534813e-01, -1.97077469e-01,\n",
       "         -1.33085627e-03, -2.39738123e-02, -1.33089952e-01,\n",
       "          2.20976551e-01,  2.33256616e-01,  9.27923053e-02,\n",
       "         -3.66758938e-01, -1.66526715e-01,  1.64397456e-03],\n",
       "        [ 1.05794655e-03,  1.09836586e-01, -2.44029546e-01,\n",
       "          5.02297864e-01,  5.36801411e-01,  2.34952715e-01,\n",
       "         -1.18318047e-01, -2.03608525e-01, -3.92316895e-01,\n",
       "          1.88401554e-01,  3.23724025e-02, -1.52959806e-01,\n",
       "          5.57001565e-02,  1.81920410e-01, -6.72719068e-02,\n",
       "         -1.50070606e-01, -6.09991297e-04, -1.30437390e-02],\n",
       "        [-6.05050830e-02, -3.57900297e-02,  2.60950366e-01,\n",
       "         -3.37997843e-01,  2.05977989e-01,  1.06405312e-01,\n",
       "         -6.53943258e-01, -3.59635586e-01,  3.23277031e-01,\n",
       "          9.02497538e-02,  1.86577849e-01, -8.01668901e-02,\n",
       "          1.12818225e-01,  5.63354776e-02, -6.09826404e-02,\n",
       "         -1.48091976e-01, -8.05318044e-02,  7.98781381e-03],\n",
       "        [ 7.08204487e-03, -4.21375522e-02,  1.10591271e-01,\n",
       "         -2.28983829e-01,  2.14517108e-02,  6.11846432e-01,\n",
       "          2.40575704e-01, -2.83761698e-01, -2.46375081e-01,\n",
       "         -5.36676498e-01,  2.04646063e-01,  6.66160483e-02,\n",
       "         -1.14173380e-01, -7.20680798e-02, -2.30622973e-02,\n",
       "          7.91593712e-02, -1.02289360e-02,  1.11587199e-02],\n",
       "        [-7.17883448e-03,  3.69688813e-02, -1.68207557e-01,\n",
       "          2.80662263e-01,  2.96336541e-04,  4.69536551e-02,\n",
       "         -5.16072925e-01,  4.77416559e-01,  8.51809791e-02,\n",
       "         -6.13133985e-01,  3.94577699e-02,  1.81446224e-02,\n",
       "          4.92307626e-02, -2.25438754e-03,  5.31700064e-02,\n",
       "          6.24237396e-02,  2.83664940e-02,  4.65865886e-03],\n",
       "        [-3.08556877e-02, -1.21269815e-02,  2.88211743e-02,\n",
       "          3.47170334e-01,  1.09553039e-01, -3.12179298e-01,\n",
       "          3.06828735e-01, -4.38902375e-01,  4.76237135e-01,\n",
       "         -4.31392906e-01, -5.96585054e-02, -1.00560919e-01,\n",
       "          8.30463728e-02,  9.61194640e-02, -2.31500689e-02,\n",
       "         -1.75975780e-01, -8.42032291e-02, -1.86876346e-03],\n",
       "        [-5.51183383e-02,  7.39230912e-02, -1.64064698e-01,\n",
       "         -5.64637090e-01,  4.39765405e-01, -2.37465130e-01,\n",
       "          1.82877503e-01,  2.85884345e-01, -1.34433027e-01,\n",
       "         -2.20107390e-01, -1.13209468e-01, -1.74149729e-01,\n",
       "          1.02621792e-01,  2.56205597e-01, -6.70280243e-02,\n",
       "         -2.93676562e-01, -6.46060437e-02,  7.65271042e-03],\n",
       "        [ 5.44619592e-02, -2.08127151e-01,  4.60676403e-01,\n",
       "          9.93465357e-02,  5.44671704e-01, -3.09549952e-01,\n",
       "          4.91352996e-02,  1.46229646e-01, -9.50640750e-02,\n",
       "         -3.21634501e-02,  2.30213399e-01,  2.31659619e-01,\n",
       "         -2.36281809e-01, -3.03125009e-01, -1.52835762e-03,\n",
       "          2.25278175e-01, -1.16616147e-02, -4.16317993e-04],\n",
       "        [ 1.26217192e-01, -1.51632121e-01,  1.27489324e-01,\n",
       "          3.72869700e-02, -4.26371067e-02,  7.83848572e-02,\n",
       "         -1.32492618e-01,  1.12860522e-02,  1.11134971e-02,\n",
       "         -4.54688685e-02, -5.04710267e-01, -7.90112187e-02,\n",
       "         -6.31989830e-01,  6.31788748e-02, -4.58943412e-01,\n",
       "         -1.99809900e-01,  2.56524402e-02, -3.05402405e-03],\n",
       "        [ 6.36972499e-02,  1.30257026e-02,  1.24078390e-01,\n",
       "         -2.25409011e-03,  1.42691630e-02,  1.36837134e-02,\n",
       "          2.57788841e-02,  2.83675270e-02, -5.20815575e-02,\n",
       "         -3.83552147e-02, -1.55556009e-01, -6.31276661e-01,\n",
       "          3.71658984e-01, -4.37765000e-01, -3.69183731e-01,\n",
       "          2.86111225e-01,  5.86751957e-02, -1.59123677e-02],\n",
       "        [-1.87835445e-01, -1.97971876e-03, -4.03030694e-02,\n",
       "         -6.65082431e-03, -1.09391190e-02, -1.99397449e-02,\n",
       "          5.68272695e-03, -5.37303607e-03,  1.13130049e-02,\n",
       "         -3.96855592e-03,  1.40893952e-01, -2.27613335e-01,\n",
       "         -1.99573207e-01, -3.79174789e-01,  2.76927066e-01,\n",
       "         -4.59617181e-01,  6.47397829e-01, -8.82017426e-04],\n",
       "        [ 6.51903617e-01,  6.81945999e-01,  2.69061171e-01,\n",
       "          1.45110785e-03, -5.31835727e-03, -5.41127774e-03,\n",
       "          5.29918178e-03,  2.07467831e-02,  9.84016230e-03,\n",
       "         -2.83097713e-02,  3.45591680e-03,  5.25190434e-02,\n",
       "          1.11182146e-02, -8.78766910e-03,  6.72785348e-02,\n",
       "         -1.39815784e-01,  9.54684638e-02, -9.20608303e-04],\n",
       "        [ 4.42962056e-03,  3.10402464e-03,  7.75251019e-05,\n",
       "         -2.86152739e-02, -2.01527204e-01, -3.71898821e-01,\n",
       "         -1.88291413e-01, -2.69484384e-01, -4.34345929e-01,\n",
       "         -1.47969575e-01, -1.94211129e-03,  1.61474676e-03,\n",
       "          2.58463880e-03, -3.06550682e-03, -2.99073351e-03,\n",
       "          2.05375995e-03, -4.06098860e-03,  7.08202637e-01]]))"
      ]
     },
     "execution_count": 333,
     "metadata": {},
     "output_type": "execute_result"
    }
   ],
   "source": [
    "# eigen value, eigen vetor 구성된 matrix\n",
    "pca.explained_variance_, pca.components_"
   ]
  },
  {
   "cell_type": "code",
   "execution_count": null,
   "id": "076c34c3",
   "metadata": {},
   "outputs": [],
   "source": []
  },
  {
   "cell_type": "markdown",
   "id": "11d71204",
   "metadata": {},
   "source": [
    "## 단계 4-3\n",
    "\n",
    "초기에 loading을 입력 변수로 하여 prob4_train을 학습하고, prob4_test에 대한 성능을 측정한다.\n",
    "\n",
    "여기에 pca_0에서 pca_17까지 입력 변수를 하나씩 추가 하면서, \n",
    "\n",
    "즉 분산 설명율이 높은 순으로 컴포넌트를 하나씩 추가하여 prob4_train를 학습하고 prob4_test의 성능을 측정 했을 때, \n",
    "\n",
    "최적의 성능을 보인 컴포넌트들의 분산 설명율의 합을 B라고 한다. (만일 없다면 B = 0이다.)\n",
    "\n",
    "입력 변수: 설명 참고\n",
    "\n",
    "대상 변수: failure\n",
    "\n",
    "성능 지표: AUC(area under of ROC curve)\n",
    "\n",
    "---\n",
    "**함수가이드**\n",
    "\n",
    "sklearn.linear_model.LogisticRegression, solver=’lbfgs’\n",
    "\n",
    "---"
   ]
  },
  {
   "cell_type": "code",
   "execution_count": 334,
   "id": "8afec2fe",
   "metadata": {},
   "outputs": [
    {
     "name": "stdout",
     "output_type": "stream",
     "text": [
      "0 0.5778277926972065\n",
      "1 0.579565141627812\n",
      "2 0.5784170060859327\n",
      "3 0.5786498903164131\n",
      "4 0.5801256923420173\n",
      "5 0.5805735466314028\n",
      "6 0.5811103203542446\n",
      "7 0.581757510516433\n",
      "8 0.5808025223153578\n",
      "9 0.5801787834323228\n",
      "10 0.5801664063683251\n",
      "11 0.5794231311040503\n",
      "12 0.5785678108393766\n",
      "13 0.5782202759108135\n",
      "14 0.5782310244137587\n",
      "15 0.5776818736269195\n",
      "16 0.5772988360674158\n",
      "17 0.5768773644670778\n"
     ]
    }
   ],
   "source": [
    "from sklearn.linear_model import LogisticRegression\n",
    "from sklearn.metrics import roc_auc_score\n",
    "\n",
    "X_lr = ['loading'] + ['pca_{}'.format(i) for i in range(18)]\n",
    "scores = []\n",
    "for i in range(18):\n",
    "    X_ = X_lr[:(i + 1)]\n",
    "    clf_lr = LogisticRegression(solver='lbfgs')\n",
    "    clf_lr.fit(df_prob4_train[X_], df_prob4_train['failure'])\n",
    "    scores.append(\n",
    "        roc_auc_score(df_prob4_test['failure'], clf_lr.predict_proba(df_prob4_test[X_])[:, 1])\n",
    "    )\n",
    "    print(i, scores[-1])"
   ]
  },
  {
   "cell_type": "code",
   "execution_count": 335,
   "id": "126232f4",
   "metadata": {},
   "outputs": [
    {
     "data": {
      "text/plain": [
       "(7,\n",
       " 0.581757510516433,\n",
       " ['loading', 'pca_0', 'pca_1', 'pca_2', 'pca_3', 'pca_4', 'pca_5', 'pca_6'])"
      ]
     },
     "execution_count": 335,
     "metadata": {},
     "output_type": "execute_result"
    }
   ],
   "source": [
    "np.argmax(scores), np.max(scores), X_lr[:(np.argmax(scores) + 1)]"
   ]
  },
  {
   "cell_type": "code",
   "execution_count": 336,
   "id": "8eb1f283",
   "metadata": {},
   "outputs": [
    {
     "data": {
      "text/plain": [
       "0.4905370453061068"
      ]
     },
     "execution_count": 336,
     "metadata": {},
     "output_type": "execute_result"
    }
   ],
   "source": [
    "B = np.sum(pca.explained_variance_ratio_[:7])\n",
    "B"
   ]
  },
  {
   "cell_type": "code",
   "execution_count": 337,
   "id": "87ae1587",
   "metadata": {},
   "outputs": [
    {
     "data": {
      "text/plain": [
       "(0.6995009550811424, 0.4905370453061068, 1.1900380003872493)"
      ]
     },
     "execution_count": 337,
     "metadata": {},
     "output_type": "execute_result"
    }
   ],
   "source": [
    "A, B, A + B"
   ]
  },
  {
   "cell_type": "markdown",
   "id": "db7a7e38",
   "metadata": {},
   "source": [
    "A + B를 소수점 셋째 자리에서 반올림하여 둘째 자리까지 구하라.\n",
    "\n",
    "**1.19**"
   ]
  },
  {
   "cell_type": "markdown",
   "id": "86ba3524",
   "metadata": {},
   "source": [
    "# 문제 5\n",
    "\n",
    "랜덤포레스트 분류기(Random-Forest Classifier)의 최적의 하이퍼 파라미터(Hyper-Parameter, 초매개변수)를 탐색하고자 한다.\n",
    "\n",
    "문제3에서 사용했던, 전처리(loading 결측치 처리와 표준화 과정을 거친) 과정을 거친 prob3_train과 prob3_test를 사용한다."
   ]
  },
  {
   "cell_type": "code",
   "execution_count": null,
   "id": "57e99809",
   "metadata": {},
   "outputs": [],
   "source": []
  },
  {
   "cell_type": "markdown",
   "id": "05189b7d",
   "metadata": {},
   "source": [
    "## 단계 5-1\n",
    "\n",
    "sklearn에서 제공하는 랜덤포레스트 분류기(Random-Forest Classifier)의 하이퍼 파라미터 중 \n",
    "\n",
    "n_estimators, max_depth 그리고 min_samples_split의 최적 조합을 탐색한다. \n",
    "\n",
    "탐색 값은 아래에 제공한 하이퍼 파라미터의 모든 조합이다. \n",
    "\n",
    "prob3_train을 대상으로 5-겹 층화교차검증(5-fold stratified cross validation)으로 \n",
    "\n",
    "각각  겹외셋(OOF set, Out-Of-Fold set)의 성능에 대한 평균을 기준으로 하이퍼 파라미터를 선택한다.\n",
    "\n",
    "  - n_estimators: [5, 10, 15]\n",
    "\n",
    "  - max_depth: [5, 6, 7]\n",
    "  \n",
    "  - min_samples_split: [256, 512]\n",
    "\n",
    "Hint] 모든 하이퍼 파라미터의 조합의 수는 18개이다\n",
    "\n",
    "입력 변수: loading, measurement_0 ~ 17, na_1, na_2 (순서에 유의)\n",
    "\n",
    "대상 변수: failure\n",
    "\n",
    "성능 지표: AUC (area under of ROC curve)\n",
    "\n",
    "---\n",
    "**함수가이드**\n",
    "\n",
    "sklearn.ensemble.RandomForestClassifier, random_state=123 \n",
    "\n",
    "itertools.product 필요시 사용\n",
    "\n",
    "sklearn.model_selection.cross_val_score 필요시 사용\n",
    "\n",
    "sklearn.model_selection.StratifiedKFold, random_state=123, shuffle=True\n",
    "\n",
    "sklearn.model_selection.GridSearchCV 필요시 사용\n",
    "\n",
    "---"
   ]
  },
  {
   "cell_type": "code",
   "execution_count": 348,
   "id": "6226741f",
   "metadata": {},
   "outputs": [
    {
     "data": {
      "text/plain": [
       "GridSearchCV(cv=StratifiedKFold(n_splits=5, random_state=123, shuffle=True),\n",
       "             error_score='raise-deprecating',\n",
       "             estimator=RandomForestClassifier(bootstrap=True, class_weight=None,\n",
       "                                              criterion='gini', max_depth=None,\n",
       "                                              max_features='auto',\n",
       "                                              max_leaf_nodes=None,\n",
       "                                              min_impurity_decrease=0.0,\n",
       "                                              min_impurity_split=None,\n",
       "                                              min_samples_leaf=1,\n",
       "                                              min_samples_split=2,\n",
       "                                              min_weight_fraction_leaf=0.0,\n",
       "                                              n_estimators='warn', n_jobs=None,\n",
       "                                              oob_score=False, random_state=123,\n",
       "                                              verbose=0, warm_start=False),\n",
       "             iid=False, n_jobs=None,\n",
       "             param_grid={'max_depth': [5, 6, 7],\n",
       "                         'min_samples_split': [256, 512],\n",
       "                         'n_estimators': [5, 10, 15]},\n",
       "             pre_dispatch='2*n_jobs', refit=True, return_train_score=True,\n",
       "             scoring='roc_auc', verbose=0)"
      ]
     },
     "execution_count": 348,
     "metadata": {},
     "output_type": "execute_result"
    }
   ],
   "source": [
    "# 방법1\n",
    "\n",
    "from sklearn.model_selection import GridSearchCV, StratifiedKFold\n",
    "from sklearn.ensemble import RandomForestClassifier\n",
    "\n",
    "cv = StratifiedKFold(n_splits=5, random_state=123, shuffle=True)\n",
    "X_gscv = ['loading'] + ['measurement_{}'.format(i) for i in range(18)] + ['na_1', 'na_2']\n",
    "gscv = GridSearchCV(\n",
    "    estimator=RandomForestClassifier(random_state=123),\n",
    "    param_grid={\n",
    "        'n_estimators':[5, 10, 15], \n",
    "        'max_depth': [5, 6, 7],\n",
    "        'min_samples_split': [256, 512]\n",
    "    },\n",
    "    iid=False,\n",
    "    cv=cv,\n",
    "    return_train_score=True,\n",
    "    scoring='roc_auc'\n",
    ")\n",
    "gscv.fit(df_prob3_train[X_gscv], df_prob3_train['failure'])"
   ]
  },
  {
   "cell_type": "code",
   "execution_count": 349,
   "id": "0c29f350",
   "metadata": {},
   "outputs": [
    {
     "data": {
      "text/plain": [
       "({'max_depth': 7, 'min_samples_split': 512, 'n_estimators': 15},\n",
       " 0.5745226991354744)"
      ]
     },
     "execution_count": 349,
     "metadata": {},
     "output_type": "execute_result"
    }
   ],
   "source": [
    "gscv.best_params_, gscv.best_score_\n",
    "#dir(gscv)"
   ]
  },
  {
   "cell_type": "code",
   "execution_count": 360,
   "id": "d684f141",
   "metadata": {},
   "outputs": [
    {
     "name": "stdout",
     "output_type": "stream",
     "text": [
      "{'n_estimators': 5, 'max_depth': 5, 'min_samples_split': 256} 0.5547115468443294\n",
      "{'n_estimators': 5, 'max_depth': 5, 'min_samples_split': 512} 0.5617150416141751\n",
      "{'n_estimators': 5, 'max_depth': 6, 'min_samples_split': 256} 0.5568999583940097\n",
      "{'n_estimators': 5, 'max_depth': 6, 'min_samples_split': 512} 0.5623239919998733\n",
      "{'n_estimators': 5, 'max_depth': 7, 'min_samples_split': 256} 0.5567633668997499\n",
      "{'n_estimators': 5, 'max_depth': 7, 'min_samples_split': 512} 0.5642015275666604\n",
      "{'n_estimators': 10, 'max_depth': 5, 'min_samples_split': 256} 0.5654552370913933\n",
      "{'n_estimators': 10, 'max_depth': 5, 'min_samples_split': 512} 0.5707474621000601\n",
      "{'n_estimators': 10, 'max_depth': 6, 'min_samples_split': 256} 0.5681316681217556\n",
      "{'n_estimators': 10, 'max_depth': 6, 'min_samples_split': 512} 0.5680847464819798\n",
      "{'n_estimators': 10, 'max_depth': 7, 'min_samples_split': 256} 0.5670255107788329\n",
      "{'n_estimators': 10, 'max_depth': 7, 'min_samples_split': 512} 0.5724060304780464\n",
      "{'n_estimators': 15, 'max_depth': 5, 'min_samples_split': 256} 0.5692073209929452\n",
      "{'n_estimators': 15, 'max_depth': 5, 'min_samples_split': 512} 0.5716407241067258\n",
      "{'n_estimators': 15, 'max_depth': 6, 'min_samples_split': 256} 0.5706158790202794\n",
      "{'n_estimators': 15, 'max_depth': 6, 'min_samples_split': 512} 0.5699305861415821\n",
      "{'n_estimators': 15, 'max_depth': 7, 'min_samples_split': 256} 0.5699417404975209\n",
      "{'n_estimators': 15, 'max_depth': 7, 'min_samples_split': 512} 0.5745226991354744\n"
     ]
    }
   ],
   "source": [
    "# 방법 2\n",
    "import itertools\n",
    "cv = StratifiedKFold(n_splits=5, random_state=123, shuffle=True)\n",
    "params = [\n",
    "    {\n",
    "        'n_estimators': a, \n",
    "        'max_depth': b, \n",
    "        'min_samples_split':c \n",
    "    }\n",
    "    for a, b, c in itertools.product(\n",
    "        [5, 10, 15], \n",
    "        [5, 6, 7],\n",
    "        [256, 512]\n",
    "    )\n",
    "]\n",
    "scores2 = list()\n",
    "for param in params:\n",
    "    scores = list()\n",
    "    for train_idx, test_idx in cv.split(df_prob3_train[X_gscv], df_prob3_train['failure']):\n",
    "        df_cv_train = df_prob3_train.iloc[train_idx]\n",
    "        df_cv_test = df_prob3_train.iloc[test_idx]\n",
    "        clf_rf = RandomForestClassifier(**param, random_state=123)\n",
    "        clf_rf.fit(df_cv_train[X_gscv], df_cv_train['failure'])\n",
    "        scores.append(\n",
    "            roc_auc_score(df_cv_test['failure'], clf_rf.predict_proba(df_cv_test[X_gscv])[:, 1])\n",
    "        )\n",
    "    scores2.append(np.mean(scores))\n",
    "    print(param, scores2[-1])"
   ]
  },
  {
   "cell_type": "code",
   "execution_count": 362,
   "id": "d4d4b87d",
   "metadata": {},
   "outputs": [
    {
     "data": {
      "text/plain": [
       "({'n_estimators': 15, 'max_depth': 7, 'min_samples_split': 512},\n",
       " 0.5745226991354744)"
      ]
     },
     "execution_count": 362,
     "metadata": {},
     "output_type": "execute_result"
    }
   ],
   "source": [
    "params[np.argmax(scores2)], np.max(scores2)"
   ]
  },
  {
   "cell_type": "markdown",
   "id": "eacc40ad",
   "metadata": {},
   "source": [
    "## 단계 5-2\n",
    "\n",
    "단계 5-1에서 구한 최적 하이퍼 파라미터로 설정한 랜덤포레스트 분류기(Random-Forest Classifier)를 사용하여 prob3_train 학습하고, \n",
    "\n",
    "prob3_test로 성능을 측정하여 이 값을 A라고 한다.\n",
    "\n",
    "입력 변수: loading, measurement_0 ~ 17, na_1, na_2 (순서에 유의)\n",
    "\n",
    "대상 변수: failure\n",
    "\n",
    "성능 지표: AUC (area under of ROC curve)\n",
    "\n",
    "---\n",
    "**함수가이드**\n",
    "\n",
    "sklearn.ensemble.RandomForestClassifier, random_state=123 \n",
    "\n",
    "---\n"
   ]
  },
  {
   "cell_type": "code",
   "execution_count": 353,
   "id": "1ebecc95",
   "metadata": {},
   "outputs": [
    {
     "data": {
      "text/plain": [
       "RandomForestClassifier(bootstrap=True, class_weight=None, criterion='gini',\n",
       "                       max_depth=7, max_features='auto', max_leaf_nodes=None,\n",
       "                       min_impurity_decrease=0.0, min_impurity_split=None,\n",
       "                       min_samples_leaf=1, min_samples_split=512,\n",
       "                       min_weight_fraction_leaf=0.0, n_estimators=15,\n",
       "                       n_jobs=None, oob_score=False, random_state=123,\n",
       "                       verbose=0, warm_start=False)"
      ]
     },
     "execution_count": 353,
     "metadata": {},
     "output_type": "execute_result"
    }
   ],
   "source": [
    "from sklearn.ensemble import RandomForestClassifier\n",
    "clf_rf = RandomForestClassifier(\n",
    "    **gscv.best_params_,\n",
    "    random_state=123\n",
    ")\n",
    "clf_rf.fit(df_prob3_train[X_gscv], df_prob3_train['failure'])"
   ]
  },
  {
   "cell_type": "code",
   "execution_count": 354,
   "id": "76c9bc41",
   "metadata": {},
   "outputs": [
    {
     "data": {
      "text/plain": [
       "(0.5687712018291998, 0.6416568062149542)"
      ]
     },
     "execution_count": 354,
     "metadata": {},
     "output_type": "execute_result"
    }
   ],
   "source": [
    "A = roc_auc_score(\n",
    "    df_prob3_test['failure'], \n",
    "    clf_rf.predict_proba(df_prob3_test[X_gscv])[:, 1]\n",
    ")\n",
    "(\n",
    "    A,\n",
    "    roc_auc_score(\n",
    "        df_prob3_train['failure'], \n",
    "        clf_rf.predict_proba(df_prob3_train[X_gscv])[:, 1]\n",
    "    )\n",
    ")"
   ]
  },
  {
   "cell_type": "markdown",
   "id": "044dd522",
   "metadata": {},
   "source": [
    "A값을 소수점 넷째 자리에서 반올림하여 3째 자리까지 출력하시오.\n",
    "\n",
    "**0.569**"
   ]
  },
  {
   "cell_type": "markdown",
   "id": "81c12783",
   "metadata": {},
   "source": [
    "# 쉬는 시간: ~16:45"
   ]
  },
  {
   "cell_type": "code",
   "execution_count": null,
   "id": "17f26a85",
   "metadata": {},
   "outputs": [],
   "source": []
  }
 ],
 "metadata": {
  "kernelspec": {
   "display_name": "Python 3 (ipykernel)",
   "language": "python",
   "name": "python3"
  },
  "language_info": {
   "codemirror_mode": {
    "name": "ipython",
    "version": 3
   },
   "file_extension": ".py",
   "mimetype": "text/x-python",
   "name": "python",
   "nbconvert_exporter": "python",
   "pygments_lexer": "ipython3",
   "version": "3.7.4"
  }
 },
 "nbformat": 4,
 "nbformat_minor": 5
}
