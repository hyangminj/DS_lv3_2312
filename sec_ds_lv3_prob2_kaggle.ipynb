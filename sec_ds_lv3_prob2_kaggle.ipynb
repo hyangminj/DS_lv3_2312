{
 "cells": [
  {
   "cell_type": "markdown",
   "id": "0aa73290",
   "metadata": {},
   "source": [
    "## 문제 6\n",
    "\n",
    "**Kaggle 형** train_prob.csv로 문제 target을 예측하는 모델을 만들고, \n",
    "\n",
    "test_prob.csv에 대한 target 예측하여 다음과 같은 형식의 answer6.csv를 만들어라.\n",
    "\n",
    "id, target\n",
    "\n",
    "0, 6.9\n",
    "\n",
    "5, 7.8\n",
    "\n",
    "...\n",
    "\n",
    "\n",
    "**평가지표**\n",
    "\n",
    "$RMSE(Y, \\hat{Y}) = \\sqrt{\\frac{1}{n}\\sum^{n}_{i=1}(y_i-\\hat{y_i})^2}$\n",
    "\n",
    "**강사: 멀티캠퍼스 강선구(sunku0316.kang@multicampus.com, sun9sun9@gmail.com)**"
   ]
  },
  {
   "cell_type": "code",
   "execution_count": 1,
   "id": "ebf905c2",
   "metadata": {},
   "outputs": [
    {
     "name": "stdout",
     "output_type": "stream",
     "text": [
      "3.7.4 (tags/v3.7.4:e09359112e, Jul  8 2019, 20:34:20) [MSC v.1916 64 bit (AMD64)]\n",
      "pandas 0.25.1\n",
      "numpy 1.18.5\n",
      "sklearn 0.21.3\n",
      "scipy 1.5.2\n",
      "mlxtend 0.15.0.0\n",
      "statsmodels 0.11.1\n",
      "xgboost 0.80\n"
     ]
    }
   ],
   "source": [
    "# 실행 환경 확인\n",
    "\n",
    "import pandas as pd\n",
    "import numpy as np\n",
    "import sklearn\n",
    "import scipy\n",
    "import statsmodels\n",
    "import mlxtend\n",
    "import sys\n",
    "import xgboost as xgb\n",
    "\n",
    "print(sys.version)\n",
    "for i in [pd, np, sklearn, scipy, mlxtend, statsmodels, xgb]:\n",
    "    print(i.__name__, i.__version__)"
   ]
  },
  {
   "cell_type": "code",
   "execution_count": 2,
   "id": "4aca03df",
   "metadata": {},
   "outputs": [],
   "source": [
    "df_train = pd.read_csv('train_prob.csv', index_col='id')\n",
    "df_test = pd.read_csv('test_prob.csv', index_col='id')\n",
    "df_ans = pd.read_csv('test_prob_ans.csv', index_col='id')"
   ]
  },
  {
   "cell_type": "code",
   "execution_count": 3,
   "id": "b86fe0c0",
   "metadata": {},
   "outputs": [
    {
     "name": "stdout",
     "output_type": "stream",
     "text": [
      "cat3 {'B': 'C'} [83634, 147361, 9005]\n",
      "cat4 {'A': 'B', 'D': 'B'} [239397, 603]\n",
      "cat6 {'D': 'A', 'E': 'B', 'G': 'C', 'H': 'B', 'I': 'A'} [234203, 5145, 652]\n",
      "cat7 {'A': 'B', 'C': 'B', 'F': 'D', 'I': 'B'} [4606, 19784, 214027, 1583]\n",
      "cat8 {'B': 'G', 'F': 'E'} [30338, 96743, 2953, 76085, 33881]\n",
      "cat9 {'C': 'H', 'D': 'B', 'E': 'L'} [10678, 2846, 85944, 8320, 19987, 40070, 5501, 16743, 33793, 7819, 3331, 4968]\n"
     ]
    }
   ],
   "source": [
    "# 반복문을 구성하여 처리해 봅니다.\n",
    "\n",
    "# 처리 내용을 정의합니다, (대상 변수명, 치환할 내용, 치환후 수준별 카운트)\n",
    "repl_list = [\n",
    "    ('cat3', {'B': 'C'}, [83634, 147361, 9005]), \n",
    "    ('cat4', {'A': 'B', 'D': 'B'}, [239397, 603]),\n",
    "    ('cat6', {'D': 'A', 'E': 'B', 'G': 'C', 'H': 'B', 'I': 'A'}, [234203, 5145, 652]),\n",
    "    ('cat7', {'A': 'B', 'C': 'B', 'F': 'D', 'I': 'B'}, [4606, 19784, 214027, 1583]),\n",
    "    ('cat8', {'B': 'G', 'F': 'E'}, [30338, 96743, 2953, 76085, 33881]),\n",
    "    ('cat9', {'C': 'H', 'D': 'B', 'E': 'L'}, [10678, 2846, 85944, 8320, 19987, 40070, 5501, 16743, 33793, 7819, 3331, 4968])\n",
    "]\n",
    "\n",
    "for c, d, cnt in repl_list:\n",
    "    print(c, d, cnt)\n",
    "    s_repl = df_train[c].replace(d) # 치환을 합니다. (아직 반영은 하지 않습니다.)\n",
    "    if not (s_repl.value_counts().sort_index() == cnt).all(): # 치환후 카운트를 체크합니다.\n",
    "        print(\"Error\", c, d, cnt, s_repl.value_counts().sort_index()) # 에러 내용을 출력합니다.\n",
    "        break\n",
    "    df_train[c] = s_repl # 치환한 결과를 반영합니다.\n",
    "    df_test[c] = df_test[c].replace(d) # 테스트에 대해서도 반영합니다."
   ]
  },
  {
   "cell_type": "code",
   "execution_count": 4,
   "id": "865fbfe7",
   "metadata": {},
   "outputs": [],
   "source": [
    "# 문제 4번을 활용하기 위해 만듭니다.\n",
    "df_train['targetA'] = df_train['target'] <= 7.45"
   ]
  },
  {
   "cell_type": "code",
   "execution_count": 5,
   "id": "7c7830ed",
   "metadata": {},
   "outputs": [],
   "source": [
    "q = [i for i in np.arange(0, 1.01, 0.01)]\n",
    "# 나머지 변수에 대해서도 해당 파생 변수를 만들어 줍니다.\n",
    "for i in range(0, 14):\n",
    "    col = 'cont{}'.format(i)\n",
    "    qt = df_train[col].quantile(q)\n",
    "    qt.iloc[[0, -1]] = [-np.inf, np.inf]\n",
    "    q_cut = pd.cut(df_train[col], bins=qt)\n",
    "    q_mean = df_train.groupby(q_cut)['target'].mean()\n",
    "    df_train[col + '_q'] = q_cut.map(q_mean).astype('float')\n",
    "    df_test[col + '_q'] = pd.cut(df_test[col], bins=qt).map(q_mean).astype('float')"
   ]
  },
  {
   "cell_type": "code",
   "execution_count": 6,
   "id": "722c8477",
   "metadata": {},
   "outputs": [],
   "source": [
    "from scipy.stats import norm\n",
    "\n",
    "mu_A, s_A = 6.769, 0.616\n",
    "mu_B, s_B = 8.123, 0.527\n",
    "\n",
    "df_train_clf = df_train.assign(\n",
    "    # 귀무가설 : target은 A입니다, 대립가설: target은 B입니다.\n",
    "    prob_A = 1 - norm.cdf(df_train['target'], loc=mu_A, scale=s_A),\n",
    "    # 귀무가설 : target은 B입니다, 대립가설: target은 A입니다.\n",
    "    prob_B = norm.cdf(df_train['target'], loc=mu_B, scale=s_B)\n",
    ")\n",
    "df_train_clf = df_train_clf.query('prob_B < 0.01 or prob_A < 0.01').copy()"
   ]
  },
  {
   "cell_type": "code",
   "execution_count": 7,
   "id": "d9123a12",
   "metadata": {},
   "outputs": [],
   "source": [
    "# 공통\n",
    "from sklearn.pipeline import make_pipeline\n",
    "from sklearn.compose import ColumnTransformer\n",
    "from sklearn.preprocessing import OneHotEncoder, StandardScaler\n",
    "from sklearn.metrics import accuracy_score, mean_squared_error\n",
    "from sklearn.metrics import make_scorer, mean_squared_error\n",
    "from sklearn.model_selection import ShuffleSplit, KFold \n",
    "\n",
    "cv = KFold(n_splits=5, random_state=123)\n",
    "# train(80%)/test(20%) 한 번으로 검증합니다. XGB, RF등 오래 걸리는 모델을 위해 사용합니다.\n",
    "ss = ShuffleSplit(n_splits=1, train_size=0.8, random_state=123)\n",
    "\n",
    "df_ans = pd.read_csv('test_prob_ans.csv', index_col='id')\n",
    "X = df_test.columns.tolist() + ['cont{}_q'.format(i) for i in range(14)] + ['targetA_prob']\n",
    "\n",
    "cat_cols = ['cat{}'.format(i) for i in range(10)]\n",
    "cont_cols = ['cont{}'.format(i) for i in range(14)]\n",
    "cont_q_cols = ['cont{}_q'.format(i) for i in range(14)]\n",
    "\n",
    "# 위에서 발생한 leak을 바로 잡아 교차검증을 합니다.\n",
    "q = [i for i in np.arange(0, 1.01, 0.01)]\n",
    "def eval_model(model, sp):\n",
    "    score_train, score = list(), list()\n",
    "    for train_idx, test_idx in sp.split(df_train):\n",
    "        df_cv_train, df_cv_test = df_train.iloc[train_idx].copy(), df_train.iloc[test_idx].copy()\n",
    "        # 검증셋에서 train으로 파생변수를 만들고\n",
    "        # 검증셋의 test(겹외셋)에 검증셋의 train으로 만든 통계값(mean)을 반영합니다.\n",
    "        for i in range(0, 14):\n",
    "            col = 'cont{}'.format(i)\n",
    "            qt = df_cv_train[col].quantile(q)\n",
    "            qt.iloc[[0, -1]] = [-np.inf, np.inf]\n",
    "            q_cut = pd.cut(df_cv_train[col], bins=qt)\n",
    "            q_mean = df_cv_train.groupby(q_cut)['target'].mean()\n",
    "            df_cv_train[col + '_q'] = q_cut.map(q_mean).astype('float')\n",
    "            df_cv_test[col + '_q'] = pd.cut(df_cv_test[col], bins=qt).map(q_mean).astype('float')\n",
    "        model.fit(df_cv_train[X], df_cv_train['target'])\n",
    "        score_train.append(-(mean_squared_error(df_cv_train['target'], model.predict(df_cv_train[X]))) ** 0.5)\n",
    "        score.append(-(mean_squared_error(df_cv_test['target'], model.predict(df_cv_test[X]))) ** 0.5)\n",
    "    return score_train, score\n",
    "\n",
    "def choose_model(model):\n",
    "    model.fit(df_train[X], df_train['target'])\n",
    "    prd = model.predict(df_test[X])\n",
    "    pd.DataFrame({\n",
    "        'target': prd\n",
    "    }, index=df_test.index).to_csv('answer6.csv')\n",
    "    return prd "
   ]
  },
  {
   "cell_type": "code",
   "execution_count": 8,
   "id": "d971e7a4",
   "metadata": {},
   "outputs": [],
   "source": [
    "# 문제 4번 모델을 만듭니다. targetA일 확률을 활용할 예정입니다.\n",
    "import xgboost as xgb\n",
    "\n",
    "ct = ColumnTransformer([\n",
    "    ('ohe', OneHotEncoder(handle_unknown='ignore'), ['cat{}'.format(i) for i in range(10)]),\n",
    "    ('pt', 'passthrough', ['cont{}'.format(i) for i in range(14)])\n",
    "])\n",
    "X_xgb = ['cont{}'.format(i) for i in range(14)] + ['cat{}'.format(i) for i in range(10)]\n",
    "clf_xgb = make_pipeline(\n",
    "    ct,\n",
    "    xgb.XGBClassifier(\n",
    "        max_depth = 2, # 트리의 최대 깊이 2\n",
    "        reg_alpha = 0.1, # L1 규제 0.1\n",
    "        reg_lambda = 0.1, # L2 규제 0.1\n",
    "        colsample_bytree=0.25, # 트리 당 컬럼 샘플링 비율 0.25\n",
    "        n_estimators=500, # 트리의 수 500\n",
    "        random_state=123, # random_state 123\n",
    "    )\n",
    ")\n",
    "\n",
    "X_xgb = ['cat{}'.format(i) for i in range(10)] + ['cont{}'.format(i) for i in range(14)]\n",
    "clf_xgb.fit(df_train_clf[X_xgb], df_train_clf['targetA'])\n",
    "df_train['targetA_prob'] = clf_xgb.predict_proba(df_train[X_xgb])[:, 1]\n",
    "df_test['targetA_prob'] = clf_xgb.predict_proba(df_test[X_xgb])[:, 1]"
   ]
  },
  {
   "cell_type": "code",
   "execution_count": 9,
   "id": "c7159564",
   "metadata": {},
   "outputs": [
    {
     "data": {
      "text/plain": [
       "(-0.8630025788522048, -0.8632456423386845)"
      ]
     },
     "execution_count": 9,
     "metadata": {},
     "output_type": "execute_result"
    }
   ],
   "source": [
    "from sklearn.linear_model import LinearRegression\n",
    "\n",
    "ct = ColumnTransformer([\n",
    "    ('ohe', OneHotEncoder(drop='first'), cat_cols),\n",
    "    ('std', StandardScaler(), cont_cols)\n",
    "])\n",
    "reg_lr = make_pipeline(\n",
    "    ct, \n",
    "    LinearRegression()\n",
    ")\n",
    "scores_train, scores = eval_model(reg_lr, cv)\n",
    "np.mean(scores_train), np.mean(scores)"
   ]
  },
  {
   "cell_type": "code",
   "execution_count": 10,
   "id": "0c7a59a5",
   "metadata": {},
   "outputs": [
    {
     "data": {
      "text/plain": [
       "0.8657267201878256"
      ]
     },
     "execution_count": 10,
     "metadata": {},
     "output_type": "execute_result"
    }
   ],
   "source": [
    "prd = choose_model(reg_lr)\n",
    "mean_squared_error(df_ans['target'], prd) ** 0.5"
   ]
  },
  {
   "cell_type": "code",
   "execution_count": 11,
   "id": "0f56c883",
   "metadata": {},
   "outputs": [
    {
     "data": {
      "text/plain": [
       "(-0.8432679868397729, -0.8435148589687671)"
      ]
     },
     "execution_count": 11,
     "metadata": {},
     "output_type": "execute_result"
    }
   ],
   "source": [
    "from sklearn.linear_model import LinearRegression\n",
    "\n",
    "ct = ColumnTransformer([\n",
    "    ('ohe', OneHotEncoder(drop='first'), cat_cols),\n",
    "    ('std', StandardScaler(), cont_cols),\n",
    "    ('pt', 'passthrough', ['targetA_prob'])\n",
    "])\n",
    "reg_lr_2 = make_pipeline(\n",
    "    ct, \n",
    "    LinearRegression()\n",
    ")\n",
    "scores_train, scores = eval_model(reg_lr_2, cv)\n",
    "np.mean(scores_train), np.mean(scores)"
   ]
  },
  {
   "cell_type": "code",
   "execution_count": 12,
   "id": "85c23dcc",
   "metadata": {},
   "outputs": [
    {
     "data": {
      "text/plain": [
       "0.8493184210459027"
      ]
     },
     "execution_count": 12,
     "metadata": {},
     "output_type": "execute_result"
    }
   ],
   "source": [
    "prd = choose_model(reg_lr_2)\n",
    "mean_squared_error(df_ans['target'], prd) ** 0.5"
   ]
  },
  {
   "cell_type": "code",
   "execution_count": 13,
   "id": "4acfc6ae",
   "metadata": {},
   "outputs": [
    {
     "data": {
      "text/plain": [
       "(-0.8446460130947127, -0.8487074147312181)"
      ]
     },
     "execution_count": 13,
     "metadata": {},
     "output_type": "execute_result"
    }
   ],
   "source": [
    "from sklearn.linear_model import LinearRegression\n",
    "\n",
    "ct = ColumnTransformer([\n",
    "    ('ohe', OneHotEncoder(drop='first'), cat_cols),\n",
    "    ('std', StandardScaler(), cont_q_cols),\n",
    "])\n",
    "reg_lr_3 = make_pipeline(\n",
    "    ct, \n",
    "    LinearRegression()\n",
    ")\n",
    "scores_train, scores = eval_model(reg_lr_3, cv)\n",
    "np.mean(scores_train), np.mean(scores)"
   ]
  },
  {
   "cell_type": "code",
   "execution_count": 14,
   "id": "315b5434",
   "metadata": {},
   "outputs": [
    {
     "data": {
      "text/plain": [
       "(-0.8414549936228667, -0.8436478554561246)"
      ]
     },
     "execution_count": 14,
     "metadata": {},
     "output_type": "execute_result"
    }
   ],
   "source": [
    "from sklearn.linear_model import LinearRegression\n",
    "from sklearn.decomposition import PCA\n",
    "\n",
    "ct = ColumnTransformer([\n",
    "    ('ohe', OneHotEncoder(drop='first'), cat_cols),\n",
    "    ('pca', PCA(random_state=123), cont_q_cols),\n",
    "    ('pt', 'passthrough', ['targetA_prob'])\n",
    "])\n",
    "reg_lr_4 = make_pipeline(\n",
    "    ct, \n",
    "    LinearRegression()\n",
    ")\n",
    "scores_train, scores = eval_model(reg_lr_4, cv)\n",
    "np.mean(scores_train), np.mean(scores)"
   ]
  },
  {
   "cell_type": "code",
   "execution_count": 15,
   "id": "d6cd03d2",
   "metadata": {},
   "outputs": [
    {
     "data": {
      "text/plain": [
       "(-0.8430963969319142, -0.8432410423704046)"
      ]
     },
     "execution_count": 15,
     "metadata": {},
     "output_type": "execute_result"
    }
   ],
   "source": [
    "from sklearn.ensemble import RandomForestRegressor\n",
    "\n",
    "ct = ColumnTransformer([\n",
    "    ('ohe', OneHotEncoder(), cat_cols),\n",
    "    ('pt', 'passthrough', cont_cols + ['targetA_prob'])\n",
    "])\n",
    "\n",
    "reg_rf = make_pipeline(\n",
    "    ct,\n",
    "    RandomForestRegressor(n_estimators=50, max_depth=4, random_state=123, n_jobs=4)\n",
    ")\n",
    "scores_train, scores = eval_model(reg_rf, ss)\n",
    "np.mean(scores_train), np.mean(scores)"
   ]
  },
  {
   "cell_type": "code",
   "execution_count": 16,
   "id": "ce4c13aa",
   "metadata": {},
   "outputs": [
    {
     "data": {
      "text/plain": [
       "(-0.8414261158818475, -0.8426761026271767)"
      ]
     },
     "execution_count": 16,
     "metadata": {},
     "output_type": "execute_result"
    }
   ],
   "source": [
    "ct = ColumnTransformer([\n",
    "    ('ohe', OneHotEncoder(), cat_cols),\n",
    "    ('pt', 'passthrough', cont_cols + ['targetA_prob'])\n",
    "])\n",
    "reg_xgb = make_pipeline(\n",
    "    ct,\n",
    "    xgb.XGBRegressor(n_estimators=150, max_depth=2, random_state=123, n_jobs=4)\n",
    ")\n",
    "scores_train, scores = eval_model(reg_xgb, ss)\n",
    "np.mean(scores_train), np.mean(scores)"
   ]
  },
  {
   "cell_type": "code",
   "execution_count": 17,
   "id": "73f10d74",
   "metadata": {},
   "outputs": [
    {
     "data": {
      "text/plain": [
       "0.8480323337991869"
      ]
     },
     "execution_count": 17,
     "metadata": {},
     "output_type": "execute_result"
    }
   ],
   "source": [
    "prd = choose_model(reg_xgb)\n",
    "mean_squared_error(df_ans['target'], prd) ** 0.5"
   ]
  },
  {
   "cell_type": "code",
   "execution_count": 18,
   "id": "3a24c036",
   "metadata": {},
   "outputs": [
    {
     "data": {
      "text/plain": [
       "(-0.8414158359037385, -0.8426417255857105)"
      ]
     },
     "execution_count": 18,
     "metadata": {},
     "output_type": "execute_result"
    }
   ],
   "source": [
    "from sklearn.ensemble import VotingRegressor\n",
    "\n",
    "reg_vt = VotingRegressor([\n",
    "    #('lr_1', reg_lr),\n",
    "    #('lr_2', reg_lr_2),\n",
    "    #('lr_3', reg_lr_3),\n",
    "    ('lr_4', reg_lr_4),\n",
    "    ('rf', reg_rf),\n",
    "    ('xgb', reg_xgb),\n",
    "])\n",
    "scores_train, scores = eval_model(reg_vt, ss)\n",
    "np.mean(scores_train), np.mean(scores)"
   ]
  },
  {
   "cell_type": "code",
   "execution_count": 19,
   "id": "ede917fb",
   "metadata": {},
   "outputs": [
    {
     "data": {
      "text/plain": [
       "0.8478298135782746"
      ]
     },
     "execution_count": 19,
     "metadata": {},
     "output_type": "execute_result"
    }
   ],
   "source": [
    "prd = choose_model(reg_vt)\n",
    "mean_squared_error(df_ans['target'], prd) ** 0.5"
   ]
  },
  {
   "cell_type": "markdown",
   "id": "cc5ee8d9",
   "metadata": {},
   "source": [
    "3일 간의 실습 강의를 포함하여 총 8일간 강의 들으시느라 고생 많으셨습니다.\n",
    "\n",
    "궁금하신점 있으시면 연락주세요.\n",
    "\n",
    "좋은 소식이 들려 오기를 기다리겠습니다.\n",
    "\n",
    "감사합니다.\n",
    "\n",
    "멀티캠퍼스 강선구(sunku0316.kang@multicampus.com, sun9sun9@gmail.com) 올림"
   ]
  },
  {
   "cell_type": "code",
   "execution_count": null,
   "id": "a47ae8b5",
   "metadata": {},
   "outputs": [],
   "source": []
  }
 ],
 "metadata": {
  "kernelspec": {
   "display_name": "Python 3 (ipykernel)",
   "language": "python",
   "name": "python3"
  },
  "language_info": {
   "codemirror_mode": {
    "name": "ipython",
    "version": 3
   },
   "file_extension": ".py",
   "mimetype": "text/x-python",
   "name": "python",
   "nbconvert_exporter": "python",
   "pygments_lexer": "ipython3",
   "version": "3.7.4"
  }
 },
 "nbformat": 4,
 "nbformat_minor": 5
}
